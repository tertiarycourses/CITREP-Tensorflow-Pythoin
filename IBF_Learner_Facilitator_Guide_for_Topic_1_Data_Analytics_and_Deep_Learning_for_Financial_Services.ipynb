{
  "nbformat": 4,
  "nbformat_minor": 0,
  "metadata": {
    "colab": {
      "name": "IBF Learner/Facilitator Guide for Topic 1 - Data Analytics and Deep Learning for Financial Services",
      "provenance": [],
      "collapsed_sections": []
    },
    "kernelspec": {
      "name": "python3",
      "display_name": "Python 3"
    },
    "accelerator": "GPU"
  },
  "cells": [
    {
      "cell_type": "markdown",
      "source": [
        "# Topic 1 - Python Fundamental"
      ],
      "metadata": {
        "id": "oyATxq5q9Kae"
      }
    },
    {
      "cell_type": "markdown",
      "metadata": {
        "id": "BFtOba3twrZP"
      },
      "source": [
        "## Topic 1 Get Started in Python"
      ]
    },
    {
      "cell_type": "code",
      "metadata": {
        "id": "N3DJ-DyMrkIl"
      },
      "source": [
        "# Comment\n",
        "# Highlight and Ctrl / to toggle comment\n",
        "\n",
        "print(\"hello\")\n",
        "# print(\"hello2\")\n",
        "# print(\"hello3\")\n",
        "# print(\"hello4\")\n"
      ],
      "execution_count": null,
      "outputs": []
    },
    {
      "cell_type": "markdown",
      "metadata": {
        "id": "OEmvlnboxSSW"
      },
      "source": [
        "## Topic 2 Data Types"
      ]
    },
    {
      "cell_type": "code",
      "metadata": {
        "id": "Q5lHdI5arvKl"
      },
      "source": [
        "# Python codes run sequentially \n",
        "# Python syntax is case sensitive\n",
        "# Python is very sensitive to spacing in front\n",
        "\n",
        "a = 1\n",
        "b = 2\n",
        "# print(a+b) -> Indentation Error\n",
        "print(a+b)"
      ],
      "execution_count": null,
      "outputs": []
    },
    {
      "cell_type": "markdown",
      "metadata": {
        "id": "etQse5It4ycS"
      },
      "source": [
        "### Multiple Assignment"
      ]
    },
    {
      "cell_type": "code",
      "metadata": {
        "id": "9ZFm4ooUwG_L"
      },
      "source": [
        "a,b=1,2\n",
        "a = b\n",
        "b = a+b\n",
        "print('a = ',a)\n",
        "print('b = ',b)"
      ],
      "execution_count": null,
      "outputs": []
    },
    {
      "cell_type": "code",
      "metadata": {
        "id": "iJUWz_K4utWz"
      },
      "source": [
        "# Exercise\n",
        "# Enter your answer in Google Classroom Quiz\n",
        "\n",
        "a,b=1,2\n",
        "a,b = b,a+b\n",
        "print('a = ',a)\n",
        "print('b = ',b)"
      ],
      "execution_count": null,
      "outputs": []
    },
    {
      "cell_type": "markdown",
      "metadata": {
        "id": "dvYPFeIS5Ec6"
      },
      "source": [
        "### Formating Numbers"
      ]
    },
    {
      "cell_type": "code",
      "metadata": {
        "id": "TgzmToLqu-Bs"
      },
      "source": [
        "# To print in a formatted way\n",
        "a = 1\n",
        "b = 2\n",
        "print(\"{}+{}={}\".format(a,b,a+b))"
      ],
      "execution_count": null,
      "outputs": []
    },
    {
      "cell_type": "code",
      "metadata": {
        "id": "VdtXOK6Bz7kt"
      },
      "source": [
        "# To format the decimal places\n",
        "a = 1.222\n",
        "b = 2.333\n",
        "print(\"{:0.1f}+{:0.1f}={:0.1f}\".format(a,b,a+b))"
      ],
      "execution_count": null,
      "outputs": []
    },
    {
      "cell_type": "code",
      "metadata": {
        "id": "5mXehutK5JqK"
      },
      "source": [
        "# To arrange the location\n",
        "\n",
        "a = 1.222\n",
        "b = 2.333\n",
        "print(\"{1:0.1f}+{0:0.1f}={2:0.1f}\".format(a,b,a+b))"
      ],
      "execution_count": null,
      "outputs": []
    },
    {
      "cell_type": "code",
      "metadata": {
        "id": "08q59OEQ0gMO"
      },
      "source": [
        "# Exercise\n",
        "\n",
        "a = 4.444\n",
        "b = 5.555\n",
        "c = 6.6666\n",
        "d = a + b +c\n",
        "\n",
        "print(\"{1:0.2f}+{2:0.2f}+{0:0.1f}={3:0.0f}\".format(a,b,c,d))\n"
      ],
      "execution_count": null,
      "outputs": []
    },
    {
      "cell_type": "markdown",
      "metadata": {
        "id": "vDxFXHUP6Lyz"
      },
      "source": [
        "### String"
      ]
    },
    {
      "cell_type": "code",
      "metadata": {
        "id": "NZOU8r8_2AGQ"
      },
      "source": [
        "# Concatenate two strings\n",
        "# Python support single and double quotes. But the quotation has to be consistent.\n",
        "\n",
        "a = \"Hello\"\n",
        "b = \" World\"\n",
        "print(a+b)\n"
      ],
      "execution_count": null,
      "outputs": []
    },
    {
      "cell_type": "code",
      "metadata": {
        "id": "5gT_42iA25IM"
      },
      "source": [
        "# Change the casing in string\n",
        "\n",
        "a = \"Hello\".upper()\n",
        "print(a)\n",
        "b = \" World\".lower()\n",
        "print(b)\n",
        "print(a+b)"
      ],
      "execution_count": null,
      "outputs": []
    },
    {
      "cell_type": "code",
      "metadata": {
        "id": "gGUdjxWQ3OdK"
      },
      "source": [
        "# Replacing the word\n",
        "\n",
        "a = \"Hello\"\n",
        "b = \" World\"\n",
        "c = a+b\n",
        "d = c.replace(\"World\",\"Alfred\")\n",
        "print(d)\n"
      ],
      "execution_count": null,
      "outputs": []
    },
    {
      "cell_type": "code",
      "metadata": {
        "id": "1WOWaSfm3ina"
      },
      "source": [
        "# Format the string output\n",
        "\n",
        "name = \"Alfred\"\n",
        "print(\"My name is {}\".format(name))"
      ],
      "execution_count": null,
      "outputs": []
    },
    {
      "cell_type": "code",
      "metadata": {
        "id": "ZfDCRQqH4Ayk"
      },
      "source": [
        "# Exercise\n",
        "\n",
        "country =\"france\".upper()\n",
        "capital =\"paris\".capitalize()\n",
        "\n",
        "print(\"The capital of {} is {}\".format(country,capital))"
      ],
      "execution_count": null,
      "outputs": []
    },
    {
      "cell_type": "code",
      "metadata": {
        "id": "J5EzOvKm5jvm"
      },
      "source": [
        "# Remove the spacing in string\n",
        "\n",
        "a = \"         Hello\".strip()\n",
        "b = \" World\"\n",
        "print(a+b)"
      ],
      "execution_count": null,
      "outputs": []
    },
    {
      "cell_type": "code",
      "metadata": {
        "id": "qLblldJT6yfb"
      },
      "source": [
        "# Split the string into words\n",
        "\n",
        "a = \"Today is a nice day\"\n",
        "b = a.split()\n",
        "print(b)"
      ],
      "execution_count": null,
      "outputs": []
    },
    {
      "cell_type": "code",
      "metadata": {
        "id": "-cEzl5bQ7FhG"
      },
      "source": [
        "# Add separator to split the strings\n",
        "\n",
        "a = \"The answer = 5 \"\n",
        "b = a.split('=')\n",
        "print(b)"
      ],
      "execution_count": null,
      "outputs": []
    },
    {
      "cell_type": "code",
      "metadata": {
        "id": "nYGUvoOC7YxN"
      },
      "source": [
        "# Join back the strings\n",
        "\n",
        "c = \"=\".join(b)\n",
        "print(c)"
      ],
      "execution_count": null,
      "outputs": []
    },
    {
      "cell_type": "code",
      "metadata": {
        "id": "T0GJJDsz7wP9"
      },
      "source": [
        "# Exercise\n",
        "\n",
        "a = 'abc@def.com'\n",
        "\n",
        "b = a.split(\"@\")\n",
        "print(b)\n",
        "c = \"/\".join(b)\n",
        "print(c)"
      ],
      "execution_count": null,
      "outputs": []
    },
    {
      "cell_type": "markdown",
      "metadata": {
        "id": "_qyZdCtQEo37"
      },
      "source": [
        "### List"
      ]
    },
    {
      "cell_type": "code",
      "metadata": {
        "id": "hiMCUdZP8R5o"
      },
      "source": [
        "a = ['apple','orange','banana','durian']\n",
        "print(a)"
      ],
      "execution_count": null,
      "outputs": []
    },
    {
      "cell_type": "code",
      "metadata": {
        "id": "VIW7Dx1S9Rm3"
      },
      "source": [
        "a[0]"
      ],
      "execution_count": null,
      "outputs": []
    },
    {
      "cell_type": "code",
      "metadata": {
        "id": "t23bRsO79YZ7"
      },
      "source": [
        "a[2]"
      ],
      "execution_count": null,
      "outputs": []
    },
    {
      "cell_type": "code",
      "metadata": {
        "id": "P7WLjY1e9aZ-"
      },
      "source": [
        "a[0:3]"
      ],
      "execution_count": null,
      "outputs": []
    },
    {
      "cell_type": "code",
      "metadata": {
        "id": "fiPvqG7_9lo5"
      },
      "source": [
        "a[0:4]"
      ],
      "execution_count": null,
      "outputs": []
    },
    {
      "cell_type": "code",
      "metadata": {
        "id": "twjcEeie9pXq"
      },
      "source": [
        "a[2:4]"
      ],
      "execution_count": null,
      "outputs": []
    },
    {
      "cell_type": "code",
      "metadata": {
        "id": "XOLWx-pu9sw1"
      },
      "source": [
        "a[-1]"
      ],
      "execution_count": null,
      "outputs": []
    },
    {
      "cell_type": "code",
      "metadata": {
        "id": "h3DWXUCi90cz"
      },
      "source": [
        "a[-2]"
      ],
      "execution_count": null,
      "outputs": []
    },
    {
      "cell_type": "code",
      "metadata": {
        "id": "MRYZ4_-U9243"
      },
      "source": [
        "a.index('banana')"
      ],
      "execution_count": null,
      "outputs": []
    },
    {
      "cell_type": "code",
      "metadata": {
        "id": "LPcuEu0r99Vp"
      },
      "source": [
        "a = ['apple','orange','banana','durian']\n",
        "a.append('mango')\n",
        "a"
      ],
      "execution_count": null,
      "outputs": []
    },
    {
      "cell_type": "code",
      "metadata": {
        "id": "dGPj0R8T-Cfn"
      },
      "source": [
        "a.insert(2,'strawberry')\n",
        "a"
      ],
      "execution_count": null,
      "outputs": []
    },
    {
      "cell_type": "code",
      "metadata": {
        "id": "RRtnt1LQ-SuG"
      },
      "source": [
        "a.remove('banana')\n",
        "a"
      ],
      "execution_count": null,
      "outputs": []
    },
    {
      "cell_type": "code",
      "metadata": {
        "id": "OTlBEes2-Xwz"
      },
      "source": [
        "a.pop()\n",
        "a"
      ],
      "execution_count": null,
      "outputs": []
    },
    {
      "cell_type": "code",
      "metadata": {
        "id": "bAECnvVQ-Y7P"
      },
      "source": [
        "a.pop(0)\n",
        "a"
      ],
      "execution_count": null,
      "outputs": []
    },
    {
      "cell_type": "code",
      "metadata": {
        "id": "n-1xkskr-hej"
      },
      "source": [
        "a = ['apple','orange','banana','durian']\n",
        "b = a.copy()\n",
        "b"
      ],
      "execution_count": null,
      "outputs": []
    },
    {
      "cell_type": "code",
      "metadata": {
        "id": "A-LMFkcC-tmt"
      },
      "source": [
        "c = a \n",
        "c"
      ],
      "execution_count": null,
      "outputs": []
    },
    {
      "cell_type": "code",
      "metadata": {
        "id": "SMsPXOmb-wyY"
      },
      "source": [
        "c.pop()\n",
        "c"
      ],
      "execution_count": null,
      "outputs": []
    },
    {
      "cell_type": "code",
      "metadata": {
        "id": "OzNounvz-6CU"
      },
      "source": [
        "a"
      ],
      "execution_count": null,
      "outputs": []
    },
    {
      "cell_type": "code",
      "metadata": {
        "id": "Rfw4eXEL--ZC"
      },
      "source": [
        "b"
      ],
      "execution_count": null,
      "outputs": []
    },
    {
      "cell_type": "code",
      "metadata": {
        "id": "08LkpqYS_D5j"
      },
      "source": [
        "a.reverse()\n",
        "a"
      ],
      "execution_count": null,
      "outputs": []
    },
    {
      "cell_type": "code",
      "metadata": {
        "id": "7hFnQBZb_Jq5"
      },
      "source": [
        "a.append('orange')\n",
        "a"
      ],
      "execution_count": null,
      "outputs": []
    },
    {
      "cell_type": "code",
      "metadata": {
        "id": "_oW5jLEW_Rb-"
      },
      "source": [
        "a.count('orange')"
      ],
      "execution_count": null,
      "outputs": []
    },
    {
      "cell_type": "code",
      "metadata": {
        "id": "TjQgGNUm_Tgy"
      },
      "source": [
        "# Exercise \n",
        "# Enter your answer in Google Classroom Quiz\n",
        "\n",
        "letters =['A','C','C','A','T','T','G','A','C','A']\n",
        "\n",
        "letters2 = letters.copy()\n",
        "letters2.remove('G')\n",
        "letters2.insert(3,'A')\n",
        "letters2.reverse()\n",
        "letters2"
      ],
      "execution_count": null,
      "outputs": []
    },
    {
      "cell_type": "markdown",
      "metadata": {
        "id": "UKAO7EvLC88s"
      },
      "source": [
        "### Tuple"
      ]
    },
    {
      "cell_type": "code",
      "metadata": {
        "id": "lcWgze-1Cq2y"
      },
      "source": [
        "a = ('apple','orange','banana','durian')\n",
        "a"
      ],
      "execution_count": null,
      "outputs": []
    },
    {
      "cell_type": "code",
      "metadata": {
        "id": "bEsfonrsDFj3"
      },
      "source": [
        "a[0]"
      ],
      "execution_count": null,
      "outputs": []
    },
    {
      "cell_type": "code",
      "metadata": {
        "id": "chGMeYTWDG1P"
      },
      "source": [
        "a[1]"
      ],
      "execution_count": null,
      "outputs": []
    },
    {
      "cell_type": "code",
      "metadata": {
        "id": "QifhJaM2DIBK"
      },
      "source": [
        "a[-1]"
      ],
      "execution_count": null,
      "outputs": []
    },
    {
      "cell_type": "code",
      "metadata": {
        "id": "qsQOHoh5SP33"
      },
      "source": [
        "a.append('mango')"
      ],
      "execution_count": null,
      "outputs": []
    },
    {
      "cell_type": "markdown",
      "metadata": {
        "id": "f_8W2mUCEEUa"
      },
      "source": [
        "### Dictionary"
      ]
    },
    {
      "cell_type": "code",
      "metadata": {
        "id": "5xH4p4NgDJDF"
      },
      "source": [
        "a = {'France':'Paris','Germany':'Berlin','Italy':'Roman'}"
      ],
      "execution_count": null,
      "outputs": []
    },
    {
      "cell_type": "code",
      "metadata": {
        "id": "fJJik_moEReQ"
      },
      "source": [
        "a['Germany']"
      ],
      "execution_count": null,
      "outputs": []
    },
    {
      "cell_type": "markdown",
      "metadata": {
        "id": "g6g6fh8fEjjG"
      },
      "source": [
        "### Set"
      ]
    },
    {
      "cell_type": "code",
      "metadata": {
        "id": "gQq_3eo-ET5T"
      },
      "source": [
        "a = {2,3,4}\n",
        "a"
      ],
      "execution_count": null,
      "outputs": []
    },
    {
      "cell_type": "code",
      "metadata": {
        "id": "U12NnuF0E9sH"
      },
      "source": [
        "# Exercise\n",
        "# Enter your answer in Google Classroom Quiz\n",
        "\n",
        "a = {2,3,4}\n",
        "b = {3,2,2,4,4}\n",
        "b"
      ],
      "execution_count": null,
      "outputs": []
    },
    {
      "cell_type": "code",
      "metadata": {
        "id": "h90kntw9Fa54"
      },
      "source": [
        "sent = \"Peter reads a book on a table\"\n",
        "words = sent.split()\n",
        "words"
      ],
      "execution_count": null,
      "outputs": []
    },
    {
      "cell_type": "code",
      "metadata": {
        "id": "dLUOdDfJF0Ti"
      },
      "source": [
        "vocab = set(words)\n",
        "vocab"
      ],
      "execution_count": null,
      "outputs": []
    },
    {
      "cell_type": "code",
      "metadata": {
        "id": "DQjrKz6CF7PK"
      },
      "source": [
        "len(vocab)"
      ],
      "execution_count": null,
      "outputs": []
    },
    {
      "cell_type": "markdown",
      "metadata": {
        "id": "jQrXptZkRcfP"
      },
      "source": [
        "## Topic 3 Operators"
      ]
    },
    {
      "cell_type": "code",
      "metadata": {
        "id": "jgIAr5NiF_VO"
      },
      "source": [
        "# Arithmetic Operators\n",
        "\n",
        "7%3"
      ],
      "execution_count": null,
      "outputs": []
    },
    {
      "cell_type": "code",
      "metadata": {
        "id": "iQHQz6sDRiQk"
      },
      "source": [
        "# Compound Operators\n",
        "\n",
        "a = 1\n",
        "#a = a + 2\n",
        "a += 2\n",
        "a"
      ],
      "execution_count": null,
      "outputs": []
    },
    {
      "cell_type": "code",
      "metadata": {
        "id": "FpV67dCNR8Nr"
      },
      "source": [
        "# Comparison Operators\n",
        "3>2"
      ],
      "execution_count": null,
      "outputs": []
    },
    {
      "cell_type": "code",
      "metadata": {
        "id": "sLs1uR3pSMDO"
      },
      "source": [
        "3==2"
      ],
      "execution_count": null,
      "outputs": []
    },
    {
      "cell_type": "code",
      "metadata": {
        "id": "uqQt2iCpSPbZ"
      },
      "source": [
        "3!=2"
      ],
      "execution_count": null,
      "outputs": []
    },
    {
      "cell_type": "code",
      "metadata": {
        "id": "Wn7cUuHoSWrv"
      },
      "source": [
        "# Membership Operators\n",
        "\n",
        "a = ['apple','orange','banana','durian']\n",
        "'apple' in a"
      ],
      "execution_count": null,
      "outputs": []
    },
    {
      "cell_type": "code",
      "metadata": {
        "id": "-Z1bsWkiSgN8"
      },
      "source": [
        "'mango' in a"
      ],
      "execution_count": null,
      "outputs": []
    },
    {
      "cell_type": "code",
      "metadata": {
        "id": "YRJRZH3uSjAQ"
      },
      "source": [
        "# Logical Operators\n",
        "\n",
        "True or False"
      ],
      "execution_count": null,
      "outputs": []
    },
    {
      "cell_type": "code",
      "metadata": {
        "id": "CoymIqjoSr_s"
      },
      "source": [
        "True and False"
      ],
      "execution_count": null,
      "outputs": []
    },
    {
      "cell_type": "code",
      "metadata": {
        "id": "ns83RqGaSvai"
      },
      "source": [
        "# Exericse\n",
        "# Enter your answer in Google Classroom Quiz\n",
        "\n",
        "a = 1; b = 2;\n",
        "(a == 1) and not(b > 3)"
      ],
      "execution_count": null,
      "outputs": []
    },
    {
      "cell_type": "code",
      "metadata": {
        "id": "K7LN8izOUJp-"
      },
      "source": [
        "(a == 1)"
      ],
      "execution_count": null,
      "outputs": []
    },
    {
      "cell_type": "code",
      "metadata": {
        "id": "HAJ85vXjUZnT"
      },
      "source": [
        "b > 3"
      ],
      "execution_count": null,
      "outputs": []
    },
    {
      "cell_type": "code",
      "metadata": {
        "id": "wo9NhbMtUb0w"
      },
      "source": [
        "not(b > 3)"
      ],
      "execution_count": null,
      "outputs": []
    },
    {
      "cell_type": "code",
      "metadata": {
        "id": "VzjmgTZBUgv0"
      },
      "source": [
        "True and True"
      ],
      "execution_count": null,
      "outputs": []
    },
    {
      "cell_type": "markdown",
      "metadata": {
        "id": "vOmj5r0XU4uu"
      },
      "source": [
        "## Topic 4 Control Structures"
      ]
    },
    {
      "cell_type": "markdown",
      "metadata": {
        "id": "98b0URw3V-Uz"
      },
      "source": [
        "### Conditional"
      ]
    },
    {
      "cell_type": "code",
      "metadata": {
        "id": "eE9WZsbQUlMa"
      },
      "source": [
        "# Conditional\n",
        "\n",
        "a = 3\n",
        "b = 3\n",
        "if (a<b):\n",
        "    print('a is small than b')\n",
        "elif (a>b):\n",
        "    print('a is larger than b')\n",
        "else:\n",
        "    print('a is same as b')"
      ],
      "execution_count": null,
      "outputs": []
    },
    {
      "cell_type": "code",
      "metadata": {
        "id": "1Ddfgr-yVpse"
      },
      "source": [
        "# Exercise\n",
        "grade = input('What is your grade :' )\n",
        "grade = grade.upper()\n",
        "if grade=='A':\n",
        "    print('Excellent!')\n",
        "elif grade == 'B':\n",
        "    print('Well Done')\n",
        "elif grade=='C':\n",
        "    print('Work harder')\n",
        "else:\n",
        "    print(\"Sorry I don't know your grade\")"
      ],
      "execution_count": null,
      "outputs": []
    },
    {
      "cell_type": "markdown",
      "metadata": {
        "id": "-vL5s19wa7Fy"
      },
      "source": [
        "### Ternary Operator"
      ]
    },
    {
      "cell_type": "code",
      "metadata": {
        "id": "Hn059abcYkLM"
      },
      "source": [
        "# Ternary Operator\n",
        "\n",
        "order = 10\n",
        "discount = 25 if order>100 else 0\n",
        "discount"
      ],
      "execution_count": null,
      "outputs": []
    },
    {
      "cell_type": "code",
      "metadata": {
        "id": "t-3qdqbfbLz9"
      },
      "source": [
        "# Exercise\n",
        "# Enter your answer in Google Classroom Quiz\n",
        "\n",
        "a = 3\n",
        "b = 5\n",
        "c = a if a>b else b\n",
        "c"
      ],
      "execution_count": null,
      "outputs": []
    },
    {
      "cell_type": "markdown",
      "metadata": {
        "id": "F4usVvO8cp4S"
      },
      "source": [
        "### While Loop"
      ]
    },
    {
      "cell_type": "code",
      "metadata": {
        "id": "kBBJHUyBcfSh"
      },
      "source": [
        "# While loop\n",
        "a = 1\n",
        "while (a<10):\n",
        "    print(a)\n",
        "    a += 1"
      ],
      "execution_count": null,
      "outputs": []
    },
    {
      "cell_type": "code",
      "metadata": {
        "id": "5QpEG7vqdA8X"
      },
      "source": [
        "# Exercise\n",
        "a,b=0,1\n",
        "while (b<100):\n",
        "    a,b = b,a+b\n",
        "    print(b)\n"
      ],
      "execution_count": null,
      "outputs": []
    },
    {
      "cell_type": "code",
      "metadata": {
        "id": "_rXD7MNtfrwS"
      },
      "source": [
        "# Exercise\n",
        "# Enter your answer in Google Classroom Quiz\n",
        "\n",
        "a,b=0,1\n",
        "while (b<100):\n",
        "    a = b\n",
        "    b = a +b\n",
        "    print(b)"
      ],
      "execution_count": null,
      "outputs": []
    },
    {
      "cell_type": "markdown",
      "metadata": {
        "id": "12PaTj4EhyMN"
      },
      "source": [
        "### For Loop"
      ]
    },
    {
      "cell_type": "code",
      "metadata": {
        "id": "6X2Y6L-Zg4rV"
      },
      "source": [
        "# For loop\n",
        "a = ['apple','orange','banana','durian']\n",
        "\n",
        "for i in a:\n",
        "    print(i)"
      ],
      "execution_count": null,
      "outputs": []
    },
    {
      "cell_type": "code",
      "metadata": {
        "id": "QDDzr3Klh-os"
      },
      "source": [
        "for i in range(1,20,2):\n",
        "    print(i)"
      ],
      "execution_count": null,
      "outputs": []
    },
    {
      "cell_type": "code",
      "metadata": {
        "id": "8xBazBXFiLH9"
      },
      "source": [
        "# Exercise\n",
        "# Enter your answer in Google Classroom Quiz\n",
        "\n",
        "a = range(2,12,2)\n",
        "list(a)"
      ],
      "execution_count": null,
      "outputs": []
    },
    {
      "cell_type": "code",
      "metadata": {
        "id": "oxJjT4w4jRAo"
      },
      "source": [
        "# Exercise\n",
        "\n",
        "a = []\n",
        "\n",
        "for i in range(1,11):\n",
        "    a.append(i*i)\n",
        "a"
      ],
      "execution_count": null,
      "outputs": []
    },
    {
      "cell_type": "markdown",
      "metadata": {
        "id": "8qkUBXU_t2Zk"
      },
      "source": [
        "### Enumerate"
      ]
    },
    {
      "cell_type": "code",
      "metadata": {
        "id": "yISTQSWkl5Hc"
      },
      "source": [
        "# Enumerate over Multiple Sequences\n",
        "\n",
        "person = ['Alfred','Ally','Belinda']\n",
        "height = [170,160,155]\n",
        "\n",
        "for i,name in enumerate(person):\n",
        "    h = height[i]\n",
        "    print(\"{} height is {}cm\".format(name,h))"
      ],
      "execution_count": null,
      "outputs": []
    },
    {
      "cell_type": "markdown",
      "metadata": {
        "id": "1gD3UdC5tx3c"
      },
      "source": [
        "### Zip"
      ]
    },
    {
      "cell_type": "code",
      "metadata": {
        "id": "qhitU0smpwgw"
      },
      "source": [
        "#Zip\n",
        "person = ['Alfred','Ally','Belinda']\n",
        "height = [170,160,155]\n",
        "\n",
        "c = zip(person,height)\n",
        "for name,h in c:\n",
        "    print(\"{} height is {}cm\".format(name,h))"
      ],
      "execution_count": null,
      "outputs": []
    },
    {
      "cell_type": "code",
      "metadata": {
        "id": "NQscqBRSqp8a"
      },
      "source": [
        "# Exercise\n",
        "\n",
        "person = ['Alfred','Ally','Belinda']\n",
        "height = [170,160,155]\n",
        "weight = [60,55,45]\n",
        "\n",
        "c = zip(person,height,weight)\n",
        "for name,h,w in c:\n",
        "    print(\"{} height is {}cm and weight is {}kg\".format(name,h,w))"
      ],
      "execution_count": null,
      "outputs": []
    },
    {
      "cell_type": "markdown",
      "metadata": {
        "id": "ZDsco65MuO7U"
      },
      "source": [
        "### Break and Continue"
      ]
    },
    {
      "cell_type": "code",
      "metadata": {
        "id": "OYkRWjKLtpqC"
      },
      "source": [
        "#Break\n",
        "\n",
        "for i in range(10):\n",
        "    if i==4:break\n",
        "    print(i)"
      ],
      "execution_count": null,
      "outputs": []
    },
    {
      "cell_type": "code",
      "metadata": {
        "id": "u66yOOQYvK_B"
      },
      "source": [
        "#Continue\n",
        "\n",
        "for i in range(10):\n",
        "    if i==4:continue\n",
        "    print(i)"
      ],
      "execution_count": null,
      "outputs": []
    },
    {
      "cell_type": "markdown",
      "metadata": {
        "id": "ZzAiN7P93Xs4"
      },
      "source": [
        "## Topic 5 Function"
      ]
    },
    {
      "cell_type": "code",
      "metadata": {
        "id": "VMjjCcCg1yUp"
      },
      "source": [
        "def f(x):\n",
        "    return x*x"
      ],
      "execution_count": null,
      "outputs": []
    },
    {
      "cell_type": "code",
      "metadata": {
        "id": "GJWg5yHN57m6"
      },
      "source": [
        "f(3)"
      ],
      "execution_count": null,
      "outputs": []
    },
    {
      "cell_type": "code",
      "metadata": {
        "id": "_5FMoE6y59sS"
      },
      "source": [
        "f(5)"
      ],
      "execution_count": null,
      "outputs": []
    },
    {
      "cell_type": "code",
      "metadata": {
        "id": "afJj1oBD6AOm"
      },
      "source": [
        "def fare(d):\n",
        "    book=2.0\n",
        "    start=3.0\n",
        "    cost=1.0\n",
        "    fare=book+start+d*cost\n",
        "    return fare\n",
        "    "
      ],
      "execution_count": null,
      "outputs": []
    },
    {
      "cell_type": "code",
      "metadata": {
        "id": "WJjzjSdU7pDC"
      },
      "source": [
        "fare(10)"
      ],
      "execution_count": null,
      "outputs": []
    },
    {
      "cell_type": "markdown",
      "metadata": {
        "id": "mCeWZftpVFH5"
      },
      "source": [
        "### Mutlple Outputs"
      ]
    },
    {
      "cell_type": "code",
      "metadata": {
        "id": "VEuGt6eF7r0m"
      },
      "source": [
        "def f(x):\n",
        "    return x*x,2*x"
      ],
      "execution_count": null,
      "outputs": []
    },
    {
      "cell_type": "code",
      "metadata": {
        "id": "JoknEzbg75xh"
      },
      "source": [
        "f(5)"
      ],
      "execution_count": null,
      "outputs": []
    },
    {
      "cell_type": "code",
      "metadata": {
        "id": "i5EB4gvV-Urs"
      },
      "source": [
        "# Exercise\n",
        "\n",
        "def grocery(order):\n",
        "    discount = 25 if order > 200 else 0\n",
        "    disc_amt = discount*order/100\n",
        "    tax = 0.07*(order - disc_amt)\n",
        "    return disc_amt,tax\n"
      ],
      "execution_count": null,
      "outputs": []
    },
    {
      "cell_type": "code",
      "metadata": {
        "id": "3y4ja-K9Ban5"
      },
      "source": [
        "order = input('How much is your. order')\n",
        "order = float(order)\n",
        "discount,tax = grocery(order)\n",
        "print('The discount is ${}'.format(discount))\n",
        "print('The tax is ${}'.format(round(tax,2)))"
      ],
      "execution_count": null,
      "outputs": []
    },
    {
      "cell_type": "markdown",
      "metadata": {
        "id": "xVsgS0exV8CG"
      },
      "source": [
        "### Multiple Arguments"
      ]
    },
    {
      "cell_type": "code",
      "metadata": {
        "id": "a3EhxW9rBmjZ"
      },
      "source": [
        "def f(x,y):\n",
        "    return x*y"
      ],
      "execution_count": null,
      "outputs": []
    },
    {
      "cell_type": "code",
      "metadata": {
        "id": "Tn5zzRqCEam5"
      },
      "source": [
        "f(2,3)"
      ],
      "execution_count": null,
      "outputs": []
    },
    {
      "cell_type": "code",
      "metadata": {
        "id": "GF9yN_gEEdQ9"
      },
      "source": [
        "f(2)"
      ],
      "execution_count": null,
      "outputs": []
    },
    {
      "cell_type": "markdown",
      "metadata": {
        "id": "8d_R1QEiWEdA"
      },
      "source": [
        "### Default Argument"
      ]
    },
    {
      "cell_type": "code",
      "metadata": {
        "id": "w_6RLxgSEmCp"
      },
      "source": [
        "def f(x,y=3):\n",
        "    return x*y"
      ],
      "execution_count": null,
      "outputs": []
    },
    {
      "cell_type": "code",
      "metadata": {
        "id": "qXCSf5rYEtvN"
      },
      "source": [
        "f(2)"
      ],
      "execution_count": null,
      "outputs": []
    },
    {
      "cell_type": "code",
      "metadata": {
        "id": "gwLloVffExZx"
      },
      "source": [
        "def f(x=3,y=3):\n",
        "    return x*y"
      ],
      "execution_count": null,
      "outputs": []
    },
    {
      "cell_type": "code",
      "metadata": {
        "id": "pMR_OsBsE8rF"
      },
      "source": [
        "f()"
      ],
      "execution_count": null,
      "outputs": []
    },
    {
      "cell_type": "code",
      "metadata": {
        "id": "H8cnwItpFATi"
      },
      "source": [
        "f(y=5)"
      ],
      "execution_count": null,
      "outputs": []
    },
    {
      "cell_type": "markdown",
      "metadata": {
        "id": "GF6XlLwIWNNN"
      },
      "source": [
        "### Variable Argument"
      ]
    },
    {
      "cell_type": "code",
      "metadata": {
        "id": "R2pWIop9FEjP"
      },
      "source": [
        "def sum(a,*b):\n",
        "    sum = a\n",
        "    for i in b:\n",
        "        sum = sum + i\n",
        "    return sum"
      ],
      "execution_count": null,
      "outputs": []
    },
    {
      "cell_type": "code",
      "metadata": {
        "id": "nK3BDxUvFdZ9"
      },
      "source": [
        "sum(2,3,4,5,6,7,8,9,10)"
      ],
      "execution_count": null,
      "outputs": []
    },
    {
      "cell_type": "code",
      "metadata": {
        "id": "s9cmTvnxFff6"
      },
      "source": [
        "# Exercise\n",
        "\n",
        "def min(a,*b):\n",
        "    m = a\n",
        "    for i in b:\n",
        "        if i<m: m=i\n",
        "    return m"
      ],
      "execution_count": null,
      "outputs": []
    },
    {
      "cell_type": "code",
      "metadata": {
        "id": "qZKPDuX4IbCF"
      },
      "source": [
        "min(7,4,8,9,10)"
      ],
      "execution_count": null,
      "outputs": []
    },
    {
      "cell_type": "markdown",
      "metadata": {
        "id": "SxBroH_N4l7Q"
      },
      "source": [
        "### Lambda Function"
      ]
    },
    {
      "cell_type": "code",
      "metadata": {
        "id": "ocEHK7xWIebs"
      },
      "source": [
        "def f(x):\n",
        "    return x*x\n"
      ],
      "execution_count": null,
      "outputs": []
    },
    {
      "cell_type": "code",
      "metadata": {
        "id": "UvGnInAOpaTW"
      },
      "source": [
        "a = lambda x:x*x"
      ],
      "execution_count": null,
      "outputs": []
    },
    {
      "cell_type": "code",
      "metadata": {
        "id": "MOieFiFOyDOh"
      },
      "source": [
        "a(4)"
      ],
      "execution_count": null,
      "outputs": []
    },
    {
      "cell_type": "code",
      "metadata": {
        "id": "Mwiq-ugZzSSD"
      },
      "source": [
        "# Exercise\n",
        "\n",
        "f = lambda x,y: 10*x+y\n",
        "\n",
        "def g(f,x,y=0):\n",
        "  return f(x,y); \n"
      ],
      "execution_count": null,
      "outputs": []
    },
    {
      "cell_type": "code",
      "metadata": {
        "id": "LhsEWo9S0uFr"
      },
      "source": [
        "g(f,4)"
      ],
      "execution_count": null,
      "outputs": []
    },
    {
      "cell_type": "markdown",
      "metadata": {
        "id": "LAH9rbHtWVf3"
      },
      "source": [
        "### Map"
      ]
    },
    {
      "cell_type": "code",
      "metadata": {
        "id": "RYjJ6li005TV"
      },
      "source": [
        "a = [1,2,3,4]\n",
        "\n",
        "b = map(lambda x:2*x,a)\n",
        "list(b)"
      ],
      "execution_count": null,
      "outputs": []
    },
    {
      "cell_type": "code",
      "metadata": {
        "id": "EPHqJ3Z11Ye7"
      },
      "source": [
        "# Exercise\n",
        "\n",
        "f = lambda x,y:10*x+y\n",
        "x = [0,1,2,3]\n",
        "y = [2,4,6,8]\n"
      ],
      "execution_count": null,
      "outputs": []
    },
    {
      "cell_type": "code",
      "metadata": {
        "id": "8QzyCygu4H9x"
      },
      "source": [
        "b = map(f,x,y)\n",
        "list(b)"
      ],
      "execution_count": null,
      "outputs": []
    },
    {
      "cell_type": "markdown",
      "metadata": {
        "id": "6HnBRerQ6p_-"
      },
      "source": [
        "### Filter"
      ]
    },
    {
      "cell_type": "code",
      "metadata": {
        "id": "sgWRwY4N4K2-"
      },
      "source": [
        "a = [1,2,3,4,5,6,7,8]\n",
        "\n",
        "b = filter(lambda x:x>3,a)\n",
        "list(b)"
      ],
      "execution_count": null,
      "outputs": []
    },
    {
      "cell_type": "code",
      "metadata": {
        "id": "3_pkTkKd4-_E"
      },
      "source": [
        "# Exercise\n",
        "x = [0,1,-4, 2,-6,3]\n",
        "\n",
        "b = filter(lambda x:x>=0,x)\n",
        "list(b)"
      ],
      "execution_count": null,
      "outputs": []
    },
    {
      "cell_type": "markdown",
      "metadata": {
        "id": "cNMFXRHl7bou"
      },
      "source": [
        "## Topic 6 Modules and Packages"
      ]
    },
    {
      "cell_type": "code",
      "metadata": {
        "id": "EViZ78gG6enc"
      },
      "source": [
        "import math"
      ],
      "execution_count": null,
      "outputs": []
    },
    {
      "cell_type": "code",
      "metadata": {
        "id": "vBEZtFZU7odJ"
      },
      "source": [
        "math.sin(0.5)"
      ],
      "execution_count": null,
      "outputs": []
    },
    {
      "cell_type": "code",
      "metadata": {
        "id": "wCcIOx6U7uRC"
      },
      "source": [
        "math.pi"
      ],
      "execution_count": null,
      "outputs": []
    },
    {
      "cell_type": "code",
      "metadata": {
        "id": "sYrneig47yE-"
      },
      "source": [
        "import math as m\n",
        "\n",
        "m.sin(0.5)"
      ],
      "execution_count": null,
      "outputs": []
    },
    {
      "cell_type": "code",
      "metadata": {
        "id": "55mStyaN8Jra"
      },
      "source": [
        "from math import *\n",
        "\n",
        "sin(0.5)"
      ],
      "execution_count": null,
      "outputs": []
    },
    {
      "cell_type": "code",
      "metadata": {
        "id": "fnboycpy8Rd9"
      },
      "source": [
        "from math import sin,pi\n",
        "\n",
        "sin(pi/2)"
      ],
      "execution_count": null,
      "outputs": []
    },
    {
      "cell_type": "code",
      "metadata": {
        "id": "gOjMlCeD8cjU"
      },
      "source": [
        "import time\n",
        "\n",
        "print(sin(pi/2))\n",
        "time.sleep(10)\n",
        "print(cos(pi/2))"
      ],
      "execution_count": null,
      "outputs": []
    },
    {
      "cell_type": "code",
      "metadata": {
        "id": "x-NuJacV86CI"
      },
      "source": [
        "import random"
      ],
      "execution_count": null,
      "outputs": []
    },
    {
      "cell_type": "code",
      "metadata": {
        "id": "PU0xvjTc9zjj"
      },
      "source": [
        "die = random.choice([1,2,3,4,5,6])\n",
        "die"
      ],
      "execution_count": null,
      "outputs": []
    },
    {
      "cell_type": "code",
      "metadata": {
        "id": "hIZtxtlH92Pb"
      },
      "source": [
        "import urllib.request\n",
        "with urllib.request.urlopen('http://python.org/') as f:\n",
        "   html = f.read()"
      ],
      "execution_count": null,
      "outputs": []
    },
    {
      "cell_type": "code",
      "metadata": {
        "id": "SHtx1JxA-Pk5"
      },
      "source": [
        "print(html)"
      ],
      "execution_count": null,
      "outputs": []
    },
    {
      "cell_type": "markdown",
      "metadata": {
        "id": "hxuq2dzNN0u1"
      },
      "source": [
        "### Numpy Demo"
      ]
    },
    {
      "cell_type": "code",
      "metadata": {
        "id": "J9IdbhHxEVYw"
      },
      "source": [
        "import numpy as np"
      ],
      "execution_count": null,
      "outputs": []
    },
    {
      "cell_type": "code",
      "metadata": {
        "id": "ImKt6RTFJpwD"
      },
      "source": [
        "a = [3,4,5,6]\n",
        "b = [6,5,4,3]\n",
        "#a+b\n",
        "#a-b"
      ],
      "execution_count": null,
      "outputs": []
    },
    {
      "cell_type": "code",
      "metadata": {
        "id": "j5GtrKYEKN1O"
      },
      "source": [
        "a1 = np.array(a)\n",
        "b1 = np.array(b)\n",
        "#a1+b1\n",
        "a1-b1"
      ],
      "execution_count": null,
      "outputs": []
    },
    {
      "cell_type": "markdown",
      "metadata": {
        "id": "CLpTBrw_Npvf"
      },
      "source": [
        "### Matplotlib Demo"
      ]
    },
    {
      "cell_type": "code",
      "metadata": {
        "id": "C-M1lVjFKXs3"
      },
      "source": [
        "import matplotlib.pyplot as plt\n",
        "\n",
        "x = np.linspace(0,4*np.pi,200)\n",
        "y = np.sin(x)\n",
        "plt.plot(x,y)"
      ],
      "execution_count": null,
      "outputs": []
    },
    {
      "cell_type": "code",
      "metadata": {
        "id": "8zoxIJw9Lf8C"
      },
      "source": [
        "- Write a Python function to compute taxi value\n",
        "        - booking fee is $3.0\n",
        "        - starting fee is $2.0\n",
        "        - cost per km is $2 for first 5km\n",
        "        - cost per km is $1.50 from 5km to 10 km\n",
        "        - cost per km is $1.00 after 10km\n",
        "        - if the age is > 60 years old, give 10% discount\n",
        "- Display the result as \"<name>, your tax fare is  is <fare  value in 1 decimal place\"\n",
        "Example "
      ],
      "execution_count": null,
      "outputs": []
    },
    {
      "cell_type": "markdown",
      "metadata": {
        "id": "Hxd7Ul_fZoF5"
      },
      "source": [
        "## Practice Session"
      ]
    },
    {
      "cell_type": "code",
      "metadata": {
        "id": "Oni59tI_U0IZ"
      },
      "source": [
        "def fare():\n",
        "    name = input('What is your name : ')\n",
        "    d = input('How long is the distance traveled : ')\n",
        "    d = float(d)\n",
        "    age = input('How old are you?')\n",
        "    age = int(age)\n",
        "    \n",
        "    if d<5: cost=2.0*d\n",
        "    if d>=5 and d<10: cost=2.0*5+1.5*(d-5)\n",
        "    if d>=10: cost= 2.0*5+1.5*5+1.0*(d-10)\n",
        "        \n",
        "    book=3.0\n",
        "    start=2.0\n",
        "    fare=book+start+cost\n",
        "    \n",
        "    if age>=70: fare=0.9*fare\n",
        "        \n",
        "    fare=round(fare,1)\n",
        "    print('{}, your taxi fare is ${}'.format(name,fare))\n"
      ],
      "execution_count": null,
      "outputs": []
    },
    {
      "cell_type": "code",
      "metadata": {
        "id": "EE--7q0eZH5N"
      },
      "source": [
        "fare()"
      ],
      "execution_count": null,
      "outputs": []
    },
    {
      "cell_type": "code",
      "metadata": {
        "id": "Mg_6tPBVZUeq"
      },
      "source": [
        ""
      ],
      "execution_count": null,
      "outputs": []
    }
  ]
}