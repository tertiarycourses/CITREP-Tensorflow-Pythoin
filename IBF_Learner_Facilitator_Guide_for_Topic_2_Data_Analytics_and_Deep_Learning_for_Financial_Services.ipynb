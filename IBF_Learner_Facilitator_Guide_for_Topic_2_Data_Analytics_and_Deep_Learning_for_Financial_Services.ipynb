{
  "nbformat": 4,
  "nbformat_minor": 0,
  "metadata": {
    "kernelspec": {
      "display_name": "Python 3",
      "language": "python",
      "name": "python3"
    },
    "language_info": {
      "codemirror_mode": {
        "name": "ipython",
        "version": 3
      },
      "file_extension": ".py",
      "mimetype": "text/x-python",
      "name": "python",
      "nbconvert_exporter": "python",
      "pygments_lexer": "ipython3",
      "version": "3.6.5"
    },
    "colab": {
      "name": "IBF Learner/Facilitator Guide for Topic 2 - Data Analytics and Deep Learning for Financial Services ",
      "provenance": []
    }
  },
  "cells": [
    {
      "cell_type": "markdown",
      "metadata": {
        "id": "DuWuy79LtA4U"
      },
      "source": [
        "# Topic 2 - Data Analytics and Visualization with Python"
      ]
    },
    {
      "cell_type": "markdown",
      "metadata": {
        "id": "7ezBm7D7gEZc"
      },
      "source": [
        "##Topic 2.1 Data Preparation\n"
      ]
    },
    {
      "cell_type": "markdown",
      "metadata": {
        "id": "zhIjWR40gVcA"
      },
      "source": [
        "### Install Python Data Analysis Packages"
      ]
    },
    {
      "cell_type": "code",
      "metadata": {
        "id": "hzBEFiJ6gEZd"
      },
      "source": [
        "# These packagss have been pre-installed on Google Colab\n",
        "!pip install numpy\n",
        "!pip install matplotlib\n",
        "!pip install seaborn\n",
        "!pip install pandas\n",
        "!pip install scipy\n",
        "!pip install sklearn"
      ],
      "execution_count": null,
      "outputs": []
    },
    {
      "cell_type": "code",
      "metadata": {
        "id": "H5rpHv_FjI70"
      },
      "source": [
        "import numpy as np\n",
        "import matplotlib.pyplot as plt\n",
        "import seaborn as sb\n",
        "import pandas as pd\n",
        "import sklearn"
      ],
      "execution_count": null,
      "outputs": []
    },
    {
      "cell_type": "markdown",
      "metadata": {
        "id": "7V8iF4swgZzg"
      },
      "source": [
        "### Series"
      ]
    },
    {
      "cell_type": "code",
      "metadata": {
        "id": "MCUfMrKAgbVl"
      },
      "source": [
        "data = np.array([10,20,30,40])\n",
        "s = pd.Series(data,index=['2011','2012','2013','2014'])\n",
        "s"
      ],
      "execution_count": null,
      "outputs": []
    },
    {
      "cell_type": "code",
      "metadata": {
        "id": "PzEtOBhx7yDa"
      },
      "source": [
        "data = {'2011':40,'2012':30,'2013':20,'2014':10}\n",
        "s = pd.Series(data)\n",
        "s"
      ],
      "execution_count": null,
      "outputs": []
    },
    {
      "cell_type": "code",
      "metadata": {
        "id": "-ujT03Mrip11"
      },
      "source": [
        "s['2012']"
      ],
      "execution_count": null,
      "outputs": []
    },
    {
      "cell_type": "markdown",
      "metadata": {
        "id": "6VI4s6KugEa1"
      },
      "source": [
        "### DataFrame"
      ]
    },
    {
      "cell_type": "code",
      "metadata": {
        "id": "3FAv-kkIgEa1"
      },
      "source": [
        "data = {\n",
        "    'Name' : [\"Ally\",\"Belinda\",\"Jane\",\"Steve\"],\n",
        "    'Height' : [160,165,155,180],\n",
        "    'Gender' : ['F','F','F','M']\n",
        "}"
      ],
      "execution_count": null,
      "outputs": []
    },
    {
      "cell_type": "code",
      "metadata": {
        "id": "jCGH8LoCgEa3"
      },
      "source": [
        "df = pd.DataFrame(data)\n",
        "df"
      ],
      "execution_count": null,
      "outputs": []
    },
    {
      "cell_type": "markdown",
      "metadata": {
        "id": "tbM-3JwHgEa5"
      },
      "source": [
        "### Import and Export Data"
      ]
    },
    {
      "cell_type": "code",
      "metadata": {
        "id": "d6n0myPugEa5"
      },
      "source": [
        "# Import CSV file\n",
        "mtcars = pd.read_csv('https://raw.githubusercontent.com/tertiarycourses/datasets/master/mtcars.csv')\n",
        "mtcars"
      ],
      "execution_count": null,
      "outputs": []
    },
    {
      "cell_type": "code",
      "metadata": {
        "id": "EIEw3MzzrCtk"
      },
      "source": [
        "mtcars_sample = pd.read_csv('https://raw.githubusercontent.com/tertiarycourses/datasets/master/mtcars.csv',\n",
        "                          index_col='car_names',\n",
        "                          usecols=['car_names','mpg','hp','cyl','am'])\n",
        "mtcars_sample"
      ],
      "execution_count": null,
      "outputs": []
    },
    {
      "cell_type": "code",
      "metadata": {
        "id": "tHpotVaX9p0y"
      },
      "source": [
        "mtcars_sample.to_csv('cars_sample.csv')"
      ],
      "execution_count": null,
      "outputs": []
    },
    {
      "cell_type": "code",
      "metadata": {
        "id": "zZZ3obNlH9fa"
      },
      "source": [
        "mtcars_sample.to_excel('cars_sample.xlsx', sheet_name='cars', index=False)"
      ],
      "execution_count": null,
      "outputs": []
    },
    {
      "cell_type": "code",
      "metadata": {
        "id": "F9ty3iKjIFGX"
      },
      "source": [
        "mtcars_sample2 = pd.read_excel('cars_sample.xlsx', sheet_name='cars')"
      ],
      "execution_count": null,
      "outputs": []
    },
    {
      "cell_type": "markdown",
      "metadata": {
        "id": "krqD-p7dgEa8"
      },
      "source": [
        "### Dataframe Attributes"
      ]
    },
    {
      "cell_type": "code",
      "metadata": {
        "id": "L2qOLrdELSa0"
      },
      "source": [
        "mtcars.info()"
      ],
      "execution_count": null,
      "outputs": []
    },
    {
      "cell_type": "code",
      "metadata": {
        "id": "zdcvpThcqwmn"
      },
      "source": [
        "mtcars_sample.shape"
      ],
      "execution_count": null,
      "outputs": []
    },
    {
      "cell_type": "code",
      "metadata": {
        "id": "bMPIfw_Pq5eX"
      },
      "source": [
        "mtcars_sample.columns"
      ],
      "execution_count": null,
      "outputs": []
    },
    {
      "cell_type": "code",
      "metadata": {
        "id": "IN7zf4lIsXwP"
      },
      "source": [
        "mtcars_sample.index"
      ],
      "execution_count": null,
      "outputs": []
    },
    {
      "cell_type": "code",
      "metadata": {
        "id": "IvcD2AFjgEa8"
      },
      "source": [
        "mtcars_sample['mpg'].values"
      ],
      "execution_count": null,
      "outputs": []
    },
    {
      "cell_type": "markdown",
      "metadata": {
        "id": "YSLwqC1QgEa-"
      },
      "source": [
        "### Activity: Import and Export Data"
      ]
    },
    {
      "cell_type": "code",
      "metadata": {
        "id": "aps7LQg04tvr"
      },
      "source": [
        "health_expenditure = pd.read_csv('https://raw.githubusercontent.com/tertiarycourses/datasets/master/government-health-expenditure.csv',)\n",
        "health_expenditure"
      ],
      "execution_count": null,
      "outputs": []
    },
    {
      "cell_type": "code",
      "metadata": {
        "id": "DrftyDLSgEa-"
      },
      "source": [
        "health_expenditure_sample = pd.read_csv('https://raw.githubusercontent.com/tertiarycourses/datasets/master/government-health-expenditure.csv',\n",
        "                                        index_col='financial_year',\n",
        "                                        usecols=['financial_year','operating_expenditure','development_expenditure','government_health_expenditure'])\n",
        "health_expenditure_sample"
      ],
      "execution_count": null,
      "outputs": []
    },
    {
      "cell_type": "code",
      "metadata": {
        "id": "UOl59bTDK4d3"
      },
      "source": [
        "health_expenditure_sample.to_csv('Heath_Expenditure.csv')"
      ],
      "execution_count": null,
      "outputs": []
    },
    {
      "cell_type": "code",
      "metadata": {
        "id": "7A2djumzgEbB"
      },
      "source": [
        ""
      ],
      "execution_count": null,
      "outputs": []
    },
    {
      "cell_type": "markdown",
      "metadata": {
        "id": "PyQthkxrgEbE"
      },
      "source": [
        "### Selecting Column"
      ]
    },
    {
      "cell_type": "code",
      "metadata": {
        "id": "WZdePh6lMb-G"
      },
      "source": [
        "mtcars_sample['mpg']"
      ],
      "execution_count": null,
      "outputs": []
    },
    {
      "cell_type": "code",
      "metadata": {
        "id": "sa0IRnuGgEbF"
      },
      "source": [
        "mtcars_sample[['mpg','cyl']]"
      ],
      "execution_count": null,
      "outputs": []
    },
    {
      "cell_type": "code",
      "metadata": {
        "id": "EGiaSo1cgEbG"
      },
      "source": [
        "mtcars_sample.mpg"
      ],
      "execution_count": null,
      "outputs": []
    },
    {
      "cell_type": "code",
      "metadata": {
        "id": "EjTIs0jOgEbJ"
      },
      "source": [
        "mtcars_sample[['mpg','cyl']]"
      ],
      "execution_count": null,
      "outputs": []
    },
    {
      "cell_type": "markdown",
      "metadata": {
        "id": "7E1s525XgEbL"
      },
      "source": [
        "### Selecting Row"
      ]
    },
    {
      "cell_type": "code",
      "metadata": {
        "id": "BouqI6IUgEbN"
      },
      "source": [
        "mtcars_sample.loc['Fiat 128']"
      ],
      "execution_count": null,
      "outputs": []
    },
    {
      "cell_type": "code",
      "metadata": {
        "id": "RW8axahyD2K3"
      },
      "source": [
        "mtcars_sample.loc[['Fiat 128','Lotus Europa']]"
      ],
      "execution_count": null,
      "outputs": []
    },
    {
      "cell_type": "code",
      "metadata": {
        "id": "thAsYbKDgEbL"
      },
      "source": [
        "mtcars_sample.iloc[3]"
      ],
      "execution_count": null,
      "outputs": []
    },
    {
      "cell_type": "code",
      "metadata": {
        "id": "dydlYm0iEEbc"
      },
      "source": [
        "mtcars_sample.iloc[[3,5]]"
      ],
      "execution_count": null,
      "outputs": []
    },
    {
      "cell_type": "markdown",
      "metadata": {
        "id": "2STPI6M1F21F"
      },
      "source": [
        "### Slicing Data"
      ]
    },
    {
      "cell_type": "code",
      "metadata": {
        "id": "_MfVAimAE7sU"
      },
      "source": [
        "mtcars_sample.iloc[3:6]"
      ],
      "execution_count": null,
      "outputs": []
    },
    {
      "cell_type": "code",
      "metadata": {
        "id": "_6Qg4LcfFDpp"
      },
      "source": [
        "mtcars_sample.iloc[:3]"
      ],
      "execution_count": null,
      "outputs": []
    },
    {
      "cell_type": "code",
      "metadata": {
        "id": "twPmOSNSZ6ah"
      },
      "source": [
        "mtcars_sample.iloc[:,:3]"
      ],
      "execution_count": null,
      "outputs": []
    },
    {
      "cell_type": "markdown",
      "metadata": {
        "id": "ktUTspoOgEbR"
      },
      "source": [
        "### Acitivity: Selecting and Slicing Data"
      ]
    },
    {
      "cell_type": "code",
      "metadata": {
        "id": "TaiPid8ogEbR"
      },
      "source": [
        "health_expenditure_sample = pd.read_csv('https://raw.githubusercontent.com/tertiarycourses/datasets/master/government-health-expenditure.csv',\n",
        "                                        index_col='financial_year',\n",
        "                                        usecols=['financial_year','operating_expenditure','development_expenditure','government_health_expenditure'])\n",
        "health_expenditure_sample"
      ],
      "execution_count": null,
      "outputs": []
    },
    {
      "cell_type": "code",
      "metadata": {
        "id": "eL5jssLACoKe"
      },
      "source": [
        "health_expenditure_sample.info()"
      ],
      "execution_count": null,
      "outputs": []
    },
    {
      "cell_type": "code",
      "metadata": {
        "id": "uKzLvpGYOiS2"
      },
      "source": [
        "health_expenditure_sample[['operating_expenditure','development_expenditure']]"
      ],
      "execution_count": null,
      "outputs": []
    },
    {
      "cell_type": "code",
      "metadata": {
        "id": "WGfo4H5GCS_J"
      },
      "source": [
        "health_expenditure_sample[['operating_expenditure','development_expenditure']].loc[[2016,2017]]"
      ],
      "execution_count": null,
      "outputs": []
    },
    {
      "cell_type": "code",
      "metadata": {
        "id": "N4NJjk3vC-z7"
      },
      "source": [
        "health_expenditure_sample[['operating_expenditure','development_expenditure']].iloc[3:8]"
      ],
      "execution_count": null,
      "outputs": []
    },
    {
      "cell_type": "markdown",
      "metadata": {
        "id": "QPtyo6FwgEbf"
      },
      "source": [
        "### Filtering Data"
      ]
    },
    {
      "cell_type": "code",
      "metadata": {
        "id": "Q-VD2kuPgEbg"
      },
      "source": [
        "mtcars_sample[mtcars_sample['cyl']>4]"
      ],
      "execution_count": null,
      "outputs": []
    },
    {
      "cell_type": "code",
      "metadata": {
        "id": "v3eUxvoDahFJ"
      },
      "source": [
        "mtcars_sample[(mtcars_sample[\"mpg\"] > 20) | (mtcars_sample[\"cyl\"] < 6)]"
      ],
      "execution_count": null,
      "outputs": []
    },
    {
      "cell_type": "code",
      "metadata": {
        "id": "rX5fxXOia5Ye"
      },
      "source": [
        "mtcars_sample[mtcars_sample[\"am\"] == 1]"
      ],
      "execution_count": null,
      "outputs": []
    },
    {
      "cell_type": "code",
      "metadata": {
        "id": "UV95VleWbG37"
      },
      "source": [
        "mtcars_sample.loc[[\"Mazda RX4\", \"Fiat 128\"], :]"
      ],
      "execution_count": null,
      "outputs": []
    },
    {
      "cell_type": "code",
      "metadata": {
        "id": "zadX14g2gEbh"
      },
      "source": [
        "mtcars_sample[mtcars_sample['cyl'].isin([6,])]"
      ],
      "execution_count": null,
      "outputs": []
    },
    {
      "cell_type": "markdown",
      "metadata": {
        "id": "8f8Ms-FxgEbh"
      },
      "source": [
        "### Activity: Filtering Data"
      ]
    },
    {
      "cell_type": "code",
      "metadata": {
        "id": "VHoW5H6lgEbi"
      },
      "source": [
        "health_expenditure_sample[health_expenditure_sample.operating_expenditure>5000]"
      ],
      "execution_count": null,
      "outputs": []
    },
    {
      "cell_type": "code",
      "metadata": {
        "id": "byhZzaRFgEbj"
      },
      "source": [
        "health_expenditure_sample[(health_expenditure_sample.operating_expenditure>5000) & (health_expenditure_sample.operating_expenditure<8000) ]"
      ],
      "execution_count": null,
      "outputs": []
    },
    {
      "cell_type": "markdown",
      "metadata": {
        "id": "9ZdSa2HugEbk"
      },
      "source": [
        "### Data Cleaning"
      ]
    },
    {
      "cell_type": "markdown",
      "metadata": {
        "id": "FJZ3Z8_OgEbk"
      },
      "source": [
        "### Missing Data"
      ]
    },
    {
      "cell_type": "code",
      "metadata": {
        "id": "Y2Dh8Y4rgEbk"
      },
      "source": [
        "df = pd.DataFrame(np.random.randn(5, 3), index=['a', 'c', 'e', 'f',\n",
        "'h'],columns=['one', 'two', 'three'])\n",
        "\n",
        "df = df.reindex(['a', 'b', 'c', 'd', 'e', 'f', 'g', 'h'])\n",
        "df"
      ],
      "execution_count": null,
      "outputs": []
    },
    {
      "cell_type": "code",
      "metadata": {
        "id": "mMTZlOAfgEbl"
      },
      "source": [
        "df['one'].isnull()"
      ],
      "execution_count": null,
      "outputs": []
    },
    {
      "cell_type": "code",
      "metadata": {
        "id": "r5XLl3rtgEbm"
      },
      "source": [
        " df.dropna()"
      ],
      "execution_count": null,
      "outputs": []
    },
    {
      "cell_type": "code",
      "metadata": {
        "id": "jFbbUARXVYZX"
      },
      "source": [
        " df.fillna(0)\n"
      ],
      "execution_count": null,
      "outputs": []
    },
    {
      "cell_type": "code",
      "metadata": {
        "id": "AqoJ4N9UYDAE"
      },
      "source": [
        "df.fillna(method='pad')"
      ],
      "execution_count": null,
      "outputs": []
    },
    {
      "cell_type": "code",
      "metadata": {
        "id": "_W74ecfugEbp"
      },
      "source": [
        "df.fillna(method='backfill')"
      ],
      "execution_count": null,
      "outputs": []
    },
    {
      "cell_type": "markdown",
      "metadata": {
        "id": "VKfI8-4G50wi"
      },
      "source": [
        "### Activity: Missing Data"
      ]
    },
    {
      "cell_type": "code",
      "metadata": {
        "id": "vVYwauI_1rg1"
      },
      "source": [
        "health_expenditure = pd.read_csv('https://raw.githubusercontent.com/tertiarycourses/datasets/master/hospital-admissions-by-sector-annual.csv')\n",
        "health_expenditure"
      ],
      "execution_count": null,
      "outputs": []
    },
    {
      "cell_type": "code",
      "metadata": {
        "id": "kho24nHc2v0g"
      },
      "source": [
        "health_expenditure_NaN = health_expenditure.replace('na',np.NaN)\n",
        "health_expenditure_NaN"
      ],
      "execution_count": null,
      "outputs": []
    },
    {
      "cell_type": "code",
      "metadata": {
        "id": "gLC5Wgts2O_y"
      },
      "source": [
        "#health_expenditure_na = health_expenditure.dropna()\n",
        "health_expenditure_NaN.isnull().values.sum()"
      ],
      "execution_count": null,
      "outputs": []
    },
    {
      "cell_type": "code",
      "metadata": {
        "id": "hhjmqFam5aqv"
      },
      "source": [
        "health_expenditure_dropna = health_expenditure_NaN.dropna()\n",
        "health_expenditure_dropna"
      ],
      "execution_count": null,
      "outputs": []
    },
    {
      "cell_type": "code",
      "metadata": {
        "id": "nfj_820F5esX"
      },
      "source": [
        "health_expenditure_dropna.isnull().values.sum()"
      ],
      "execution_count": null,
      "outputs": []
    },
    {
      "cell_type": "markdown",
      "metadata": {
        "id": "wY6zdzqxZ1vh"
      },
      "source": [
        "## Topic 2.2 Data Transformation"
      ]
    },
    {
      "cell_type": "markdown",
      "metadata": {
        "id": "qrR8YxldgEb0"
      },
      "source": [
        "### Joining Data"
      ]
    },
    {
      "cell_type": "code",
      "metadata": {
        "id": "0ZJK443QsjFx"
      },
      "source": [
        "merc = [c for c in mtcars_sample.index if 'Merc' in c]\n",
        "merc_cars = mtcars_sample.loc[merc]\n",
        "merc_cars"
      ],
      "execution_count": null,
      "outputs": []
    },
    {
      "cell_type": "code",
      "metadata": {
        "id": "yI_1DbYSx_hg"
      },
      "source": [
        "toyota = [c for c in mtcars_sample.index if 'Toyota' in c]\n",
        "toyota_cars = mtcars_sample.loc[toyota]\n",
        "toyota_cars"
      ],
      "execution_count": null,
      "outputs": []
    },
    {
      "cell_type": "code",
      "metadata": {
        "id": "QmF_ETmdyuWQ"
      },
      "source": [
        "merc_toyota_cars = pd.concat([merc_cars, toyota_cars], axis=0)\n",
        "merc_toyota_cars"
      ],
      "execution_count": null,
      "outputs": []
    },
    {
      "cell_type": "code",
      "metadata": {
        "id": "SVpazv9n0bTu"
      },
      "source": [
        "print('Shape of the  toyota_cars: ', toyota_cars.shape)\n",
        "print('Shape of the  merc_cars: ', merc_cars.shape)\n",
        "print('Shape of the resulting merc_toyota_cars: ', merc_toyota_cars.shape)"
      ],
      "execution_count": null,
      "outputs": []
    },
    {
      "cell_type": "markdown",
      "metadata": {
        "id": "rp5jbizT1qjW"
      },
      "source": [
        "### Activity: Joining Data"
      ]
    },
    {
      "cell_type": "code",
      "metadata": {
        "id": "wlrIGwcDaRmU"
      },
      "source": [
        "air_quality_no2 = pd.read_csv(\"https://raw.githubusercontent.com/pandas-dev/pandas/master/doc/data/air_quality_no2_long.csv\")\n",
        "air_quality_no2 = air_quality_no2[[\"date.utc\", \"location\",\"parameter\", \"value\"]]\n",
        "air_quality_no2.head()"
      ],
      "execution_count": null,
      "outputs": []
    },
    {
      "cell_type": "code",
      "metadata": {
        "id": "Rd828ic8aoJF"
      },
      "source": [
        "air_quality_pm25 = pd.read_csv(\"https://raw.githubusercontent.com/pandas-dev/pandas/master/doc/data/air_quality_pm25_long.csv\")\n",
        "air_quality_pm25 = air_quality_pm25[[\"date.utc\", \"location\",\"parameter\", \"value\"]]\n",
        "air_quality_pm25.head()"
      ],
      "execution_count": null,
      "outputs": []
    },
    {
      "cell_type": "code",
      "metadata": {
        "id": "mkSioRJzcKYD"
      },
      "source": [
        "air_quality = pd.concat([air_quality_pm25, air_quality_no2], axis=0)\n",
        "air_quality.head()"
      ],
      "execution_count": null,
      "outputs": []
    },
    {
      "cell_type": "code",
      "metadata": {
        "id": "VTPdBSFfc1eh"
      },
      "source": [
        "print('Shape of the `air_quality_pm25` table: ', air_quality_pm25.shape)\n",
        "print('Shape of the `air_quality_no2` table: ', air_quality_no2.shape)\n",
        "print('Shape of the resulting `air_quality` table: ', air_quality.shape)"
      ],
      "execution_count": null,
      "outputs": []
    },
    {
      "cell_type": "markdown",
      "metadata": {
        "id": "jz0HugqlgEb0"
      },
      "source": [
        "### Appending Data"
      ]
    },
    {
      "cell_type": "code",
      "metadata": {
        "id": "e0jr3wVpgEb9"
      },
      "source": [
        "toyota_merc_cars2= toyota_cars.append(merc_cars)\n",
        "toyota_merc_cars2"
      ],
      "execution_count": null,
      "outputs": []
    },
    {
      "cell_type": "markdown",
      "metadata": {
        "id": "1Qk0-GRygEcA"
      },
      "source": [
        "### Merging Data"
      ]
    },
    {
      "cell_type": "code",
      "metadata": {
        "id": "5xEp6QeJgEcB"
      },
      "source": [
        "left = pd.DataFrame({'key': ['K0', 'K1', 'K2', 'K3'],\n",
        "                     'A': ['A0', 'A1', 'A2', 'A3'],\n",
        "                     'B': ['B0', 'B1', 'B2', 'B3']})\n",
        "left"
      ],
      "execution_count": null,
      "outputs": []
    },
    {
      "cell_type": "code",
      "metadata": {
        "id": "OzGGgFa96UDw"
      },
      "source": [
        "right = pd.DataFrame({'key': ['K0', 'K1', 'K2', 'K4'],\n",
        "                      'C': ['C0', 'C1', 'C2', 'C4'],\n",
        "                      'D': ['D0', 'D1', 'D2', 'D4']})\n",
        "right"
      ],
      "execution_count": null,
      "outputs": []
    },
    {
      "cell_type": "code",
      "metadata": {
        "id": "bWJefyWs6evU"
      },
      "source": [
        "result = pd.merge(left, right, on='key')\n",
        "result"
      ],
      "execution_count": null,
      "outputs": []
    },
    {
      "cell_type": "code",
      "metadata": {
        "id": "Aqto-er66klo"
      },
      "source": [
        "result = pd.merge(left, right, on='key',how='inner')\n",
        "result"
      ],
      "execution_count": null,
      "outputs": []
    },
    {
      "cell_type": "code",
      "metadata": {
        "id": "Krzonfx96omW"
      },
      "source": [
        "result = pd.merge(left, right, on='key',how='outer')\n",
        "result"
      ],
      "execution_count": null,
      "outputs": []
    },
    {
      "cell_type": "code",
      "metadata": {
        "id": "tEKbui0M643F"
      },
      "source": [
        "result = pd.merge(left, right, on='key',how='left')\n",
        "result"
      ],
      "execution_count": null,
      "outputs": []
    },
    {
      "cell_type": "code",
      "metadata": {
        "id": "iKPAD2Tj6_Rr"
      },
      "source": [
        "result = pd.merge(left, right, on='key',how='right')\n",
        "result"
      ],
      "execution_count": null,
      "outputs": []
    },
    {
      "cell_type": "markdown",
      "metadata": {
        "id": "U0VtE3NrgEcD"
      },
      "source": [
        "### Activiity: Merging Data"
      ]
    },
    {
      "cell_type": "code",
      "metadata": {
        "id": "kK8TMhXrgEcD"
      },
      "source": [
        "air_quality = pd.merge(air_quality_pm25, air_quality_no2, on='location')\n",
        "air_quality.head()"
      ],
      "execution_count": null,
      "outputs": []
    },
    {
      "cell_type": "code",
      "metadata": {
        "id": "yyxVS2dkgEcE"
      },
      "source": [
        "air_quality = pd.merge(air_quality_pm25, air_quality_no2, on='date.utc')\n",
        "air_quality.head()"
      ],
      "execution_count": null,
      "outputs": []
    },
    {
      "cell_type": "markdown",
      "metadata": {
        "id": "GGx1k5sfOw5G"
      },
      "source": [
        "### Sorting Data"
      ]
    },
    {
      "cell_type": "code",
      "metadata": {
        "id": "0yOl2ag3GYQN"
      },
      "source": [
        "mtcars_sample.sort_values(by=\"cyl\",ascending=False)"
      ],
      "execution_count": null,
      "outputs": []
    },
    {
      "cell_type": "markdown",
      "metadata": {
        "id": "WNDTF_GDgEcF"
      },
      "source": [
        "### GroupBy"
      ]
    },
    {
      "cell_type": "code",
      "metadata": {
        "id": "4uoSPWMkAvO2"
      },
      "source": [
        "mtcars_sample.groupby(['cyl']).mean()"
      ],
      "execution_count": null,
      "outputs": []
    },
    {
      "cell_type": "code",
      "metadata": {
        "id": "OSP0-2Wsc7IW"
      },
      "source": [
        "mtcars_sample.groupby('cyl').hp.mean()"
      ],
      "execution_count": null,
      "outputs": []
    },
    {
      "cell_type": "code",
      "metadata": {
        "id": "OEcoFLbfCMUo"
      },
      "source": [
        "mtcars_sample.groupby(['cyl']).sum()"
      ],
      "execution_count": null,
      "outputs": []
    },
    {
      "cell_type": "code",
      "metadata": {
        "id": "LmfbBIZBj3Ww"
      },
      "source": [
        "mtcars_sample.groupby(['cyl']).agg(['mean', 'count'])"
      ],
      "execution_count": null,
      "outputs": []
    },
    {
      "cell_type": "code",
      "metadata": {
        "id": "rnDXLTzPA0pj"
      },
      "source": [
        "mtcars_sample.groupby(['cyl','am']).mean()"
      ],
      "execution_count": null,
      "outputs": []
    },
    {
      "cell_type": "code",
      "metadata": {
        "id": "Epe1nDikjen3"
      },
      "source": [
        "mtcars_sample.groupby('cyl').agg(lambda x:max(x)-min(x))"
      ],
      "execution_count": null,
      "outputs": []
    },
    {
      "cell_type": "code",
      "metadata": {
        "id": "E42xpjCdjqsN"
      },
      "source": [
        "mtcars_sample.groupby(['cyl', 'am']).agg(['mean', 'count'])"
      ],
      "execution_count": null,
      "outputs": []
    },
    {
      "cell_type": "markdown",
      "metadata": {
        "id": "I4EUqUAZK9kl"
      },
      "source": [
        "### Activitiy: Groupby"
      ]
    },
    {
      "cell_type": "code",
      "metadata": {
        "id": "L2LIQrGveBxp"
      },
      "source": [
        "long_term_care = pd.read_csv('https://raw.githubusercontent.com/tertiarycourses/datasets/master/number-of-residential-long-term-care-facilities-sector-breakdown.csv',)\n",
        "long_term_care.head()"
      ],
      "execution_count": null,
      "outputs": []
    },
    {
      "cell_type": "code",
      "metadata": {
        "id": "jHg_T5DleE45"
      },
      "source": [
        "long_term_care_by_sector = long_term_care.groupby(['year','sector']).sum()\n",
        "long_term_care_by_sector"
      ],
      "execution_count": null,
      "outputs": []
    },
    {
      "cell_type": "markdown",
      "metadata": {
        "id": "QsuSAJvUIh6k"
      },
      "source": [
        "### Pivoting Data"
      ]
    },
    {
      "cell_type": "code",
      "metadata": {
        "id": "IknTVeXtMLtS"
      },
      "source": [
        "mtcars_sample.pivot(columns='cyl',values='hp')"
      ],
      "execution_count": null,
      "outputs": []
    },
    {
      "cell_type": "code",
      "metadata": {
        "id": "Kdq3LpuUSzvu"
      },
      "source": [
        "mtcars_sample.pivot(columns='cyl',values='hp').mean()"
      ],
      "execution_count": null,
      "outputs": []
    },
    {
      "cell_type": "code",
      "metadata": {
        "id": "wpLGpRN5OCiM"
      },
      "source": [
        "mtcars_sample.pivot_table(index='cyl',columns='am', values='hp',aggfunc='mean')"
      ],
      "execution_count": null,
      "outputs": []
    },
    {
      "cell_type": "markdown",
      "metadata": {
        "id": "FCCuTYPwTRWj"
      },
      "source": [
        "### Activity: Pivot Table"
      ]
    },
    {
      "cell_type": "code",
      "metadata": {
        "id": "epXSbRMyJb6r"
      },
      "source": [
        "long_term_care = pd.read_csv('https://raw.githubusercontent.com/tertiarycourses/datasets/master/number-of-residential-long-term-care-facilities-sector-breakdown.csv')\n",
        "long_term_care"
      ],
      "execution_count": null,
      "outputs": []
    },
    {
      "cell_type": "code",
      "metadata": {
        "id": "H99uCIMpFhCS"
      },
      "source": [
        "long_term_care.pivot(columns='sector',values='count').sum()"
      ],
      "execution_count": null,
      "outputs": []
    },
    {
      "cell_type": "code",
      "metadata": {
        "id": "W5RwiZ0zWMUk"
      },
      "source": [
        "long_term_care.pivot_table(index=['year','sector'],values='count',aggfunc='sum')"
      ],
      "execution_count": null,
      "outputs": []
    },
    {
      "cell_type": "markdown",
      "metadata": {
        "id": "G1dOkMVjgEcR"
      },
      "source": [
        "## Topic 2.3 Data Visualization \n"
      ]
    },
    {
      "cell_type": "markdown",
      "metadata": {
        "id": "Oo5-hh9wndTS"
      },
      "source": [
        "### Plot DataFrame"
      ]
    },
    {
      "cell_type": "code",
      "metadata": {
        "id": "3zBuJvpXgEcR"
      },
      "source": [
        "mtcars_sample.plot()"
      ],
      "execution_count": null,
      "outputs": []
    },
    {
      "cell_type": "code",
      "metadata": {
        "id": "xPNmPhoVnCjq"
      },
      "source": [
        "mtcars_sample['hp'].plot()"
      ],
      "execution_count": null,
      "outputs": []
    },
    {
      "cell_type": "markdown",
      "metadata": {
        "id": "WqDqNUFSnUfB"
      },
      "source": [
        "### Activity: Plot DataFrame"
      ]
    },
    {
      "cell_type": "code",
      "metadata": {
        "id": "m7r7woxkgEcS"
      },
      "source": [
        "health_expenditure_sample.plot()"
      ],
      "execution_count": null,
      "outputs": []
    },
    {
      "cell_type": "markdown",
      "metadata": {
        "id": "2uCvKWxPoGSL"
      },
      "source": [
        "### Scatter Plot"
      ]
    },
    {
      "cell_type": "code",
      "metadata": {
        "id": "_ZT1rV-qgEcS"
      },
      "source": [
        "mtcars_sample.plot.scatter(x=\"hp\", y=\"mpg\",alpha=0.5)"
      ],
      "execution_count": null,
      "outputs": []
    },
    {
      "cell_type": "code",
      "metadata": {
        "id": "rV2lEpL1KkKP"
      },
      "source": [
        "mtcars_sample.plot.scatter(x=\"hp\", y=\"mpg\",alpha=0.5)\n",
        "plt.xlabel(\"hp\")\n",
        "plt.ylabel(\"mpg\")\n",
        "plt.title(\"hp vs mpg\")"
      ],
      "execution_count": null,
      "outputs": []
    },
    {
      "cell_type": "markdown",
      "metadata": {
        "id": "35dULZLRpJrP"
      },
      "source": [
        "### Bar Plot"
      ]
    },
    {
      "cell_type": "code",
      "metadata": {
        "id": "v-ViXELtpLRQ"
      },
      "source": [
        "mtcars_sample.pivot(columns='cyl',values='hp').mean().plot.bar()"
      ],
      "execution_count": null,
      "outputs": []
    },
    {
      "cell_type": "code",
      "metadata": {
        "id": "EK3XwwN0gEcW"
      },
      "source": [
        "mtcars_sample.pivot(columns='cyl',values='hp').mean().plot.bar(color='red')"
      ],
      "execution_count": null,
      "outputs": []
    },
    {
      "cell_type": "code",
      "metadata": {
        "id": "0w_rHkBYJUmu"
      },
      "source": [
        "mtcars_cyl= mtcars_sample.pivot(columns='cyl',values='hp').mean().plot(kind='bar',color='red')"
      ],
      "execution_count": null,
      "outputs": []
    },
    {
      "cell_type": "code",
      "metadata": {
        "id": "J6F_VhO4gEcW"
      },
      "source": [
        "mtcars_cyl= mtcars_sample.pivot(columns='cyl',values='hp').mean().plot.barh()"
      ],
      "execution_count": null,
      "outputs": []
    },
    {
      "cell_type": "code",
      "metadata": {
        "id": "y10HcfVBnhkW"
      },
      "source": [
        "mtcars_sample.pivot_table(index='am',columns='cyl',values='mpg',aggfunc=['mean']).plot.bar()"
      ],
      "execution_count": null,
      "outputs": []
    },
    {
      "cell_type": "code",
      "metadata": {
        "id": "1r_krrMQ8flG"
      },
      "source": [
        "mtcars_sample.groupby(['am','cyl']).mean().plot.bar(stacked=True)"
      ],
      "execution_count": null,
      "outputs": []
    },
    {
      "cell_type": "markdown",
      "metadata": {
        "id": "KXrmndH-AXVm"
      },
      "source": [
        "### Pie Plot"
      ]
    },
    {
      "cell_type": "code",
      "metadata": {
        "id": "YbKPBpubAKXr"
      },
      "source": [
        "mtcars_cyl= mtcars_sample.pivot(columns='cyl',values='hp').mean().plot.pie()"
      ],
      "execution_count": null,
      "outputs": []
    },
    {
      "cell_type": "markdown",
      "metadata": {
        "id": "Wi8T2GV-8YJ1"
      },
      "source": [
        "### Boxplot"
      ]
    },
    {
      "cell_type": "code",
      "metadata": {
        "id": "ZSHONUAzgEcX"
      },
      "source": [
        "mtcars_cyl= mtcars_sample.pivot(columns='cyl',values='hp').plot.box()"
      ],
      "execution_count": null,
      "outputs": []
    },
    {
      "cell_type": "markdown",
      "metadata": {
        "id": "8LqNNWR8_3DJ"
      },
      "source": [
        "### Area Plot"
      ]
    },
    {
      "cell_type": "code",
      "metadata": {
        "id": "mniu6MsH_sf9"
      },
      "source": [
        "mtcars_sample2 = mtcars_sample[['cyl','mpg','hp']]\n",
        "mtcars_sample2.groupby(['cyl']).mean().plot.area()"
      ],
      "execution_count": null,
      "outputs": []
    },
    {
      "cell_type": "markdown",
      "metadata": {
        "id": "VH1TUqLC8boj"
      },
      "source": [
        "### Histogram"
      ]
    },
    {
      "cell_type": "code",
      "metadata": {
        "id": "croK8jpc4z0Y"
      },
      "source": [
        "mtcars_sample.mpg.plot.hist(bins=15)"
      ],
      "execution_count": null,
      "outputs": []
    },
    {
      "cell_type": "markdown",
      "metadata": {
        "id": "-WNvXsgO6Eva"
      },
      "source": [
        "### Activity: Data Visualization"
      ]
    },
    {
      "cell_type": "code",
      "metadata": {
        "id": "2XCEhmlv5yzh"
      },
      "source": [
        "long_term_care.pivot(columns='sector',values='count').sum().plot.barh()"
      ],
      "execution_count": null,
      "outputs": []
    },
    {
      "cell_type": "markdown",
      "metadata": {
        "id": "r1zzTOaY-ZGn"
      },
      "source": [
        "### Subplot"
      ]
    },
    {
      "cell_type": "code",
      "metadata": {
        "id": "XdSESyWu-eGG"
      },
      "source": [
        "mtcars_sample.groupby('cyl').mean().plot(subplots=True)"
      ],
      "execution_count": null,
      "outputs": []
    },
    {
      "cell_type": "markdown",
      "metadata": {
        "id": "eRRN_s5_-fdV"
      },
      "source": [
        "### Activity: Subplot"
      ]
    },
    {
      "cell_type": "code",
      "metadata": {
        "id": "L2JqOrS18iDn"
      },
      "source": [
        "health_expenditure_sample.plot(subplots=True)"
      ],
      "execution_count": null,
      "outputs": []
    },
    {
      "cell_type": "markdown",
      "metadata": {
        "id": "RFmMnQq7Bg99"
      },
      "source": [
        "### Matplotlib - Scatter Plot"
      ]
    },
    {
      "cell_type": "code",
      "metadata": {
        "id": "AtpWcs-qAiuJ"
      },
      "source": [
        "plt.scatter(x=\"hp\", y=\"mpg\", data=mtcars_sample,color='red')\n",
        "plt.xlabel('hp')\n",
        "plt.ylabel('mpg')\n",
        "plt.title('hp vs mpg')"
      ],
      "execution_count": null,
      "outputs": []
    },
    {
      "cell_type": "markdown",
      "metadata": {
        "id": "BHefiSTn_fFW"
      },
      "source": [
        "### Seaborn - Heatmap"
      ]
    },
    {
      "cell_type": "code",
      "metadata": {
        "id": "tc_PBNKe-ywq"
      },
      "source": [
        "mtcars_cyl= mtcars_sample.groupby('cyl').mean()\n",
        "sb.heatmap(mtcars_cyl, annot=True)"
      ],
      "execution_count": null,
      "outputs": []
    },
    {
      "cell_type": "markdown",
      "metadata": {
        "id": "ei_6QNNnAfJO"
      },
      "source": [
        "### Seaborn - Regression Line"
      ]
    },
    {
      "cell_type": "code",
      "metadata": {
        "id": "cTeO7FlwAMwT"
      },
      "source": [
        "sb.lmplot(x=\"hp\", y=\"mpg\",data=mtcars_sample,fit_reg=True) "
      ],
      "execution_count": null,
      "outputs": []
    },
    {
      "cell_type": "markdown",
      "metadata": {
        "id": "L2TpPaOmgEcY"
      },
      "source": [
        "## Topic 2.4 Data Analysis \n"
      ]
    },
    {
      "cell_type": "markdown",
      "metadata": {
        "id": "P73Xquh-Fg4u"
      },
      "source": [
        "### Descriptive Statistics"
      ]
    },
    {
      "cell_type": "code",
      "metadata": {
        "id": "uvqm6j8zCSgD"
      },
      "source": [
        "mtcars_sample[[\"mpg\", \"hp\"]].median()"
      ],
      "execution_count": null,
      "outputs": []
    },
    {
      "cell_type": "code",
      "metadata": {
        "id": "Ie8PE1CoDC1o"
      },
      "source": [
        "mtcars_sample[[\"mpg\", \"hp\"]].describe()"
      ],
      "execution_count": null,
      "outputs": []
    },
    {
      "cell_type": "markdown",
      "metadata": {
        "id": "l-NvhSZ6frva"
      },
      "source": [
        "### Descriptive Statistics for Categorical Data"
      ]
    },
    {
      "cell_type": "code",
      "metadata": {
        "id": "NGWWil3geNWD"
      },
      "source": [
        "mtcars_sample.groupby('cyl').mpg.agg(['mean', 'median', 'max'])"
      ],
      "execution_count": null,
      "outputs": []
    },
    {
      "cell_type": "code",
      "metadata": {
        "id": "epDcrdFJdZ49"
      },
      "source": [
        "mtcars_sample.groupby('cyl').mpg.describe()"
      ],
      "execution_count": null,
      "outputs": []
    },
    {
      "cell_type": "code",
      "metadata": {
        "id": "97jOK_x5DjP9"
      },
      "source": [
        "mtcars_sample[[\"cyl\", \"mpg\"]].groupby(\"cyl\").mean()"
      ],
      "execution_count": null,
      "outputs": []
    },
    {
      "cell_type": "code",
      "metadata": {
        "id": "ZqgvfbxkEhoY"
      },
      "source": [
        "mtcars_sample.groupby(\"cyl\")[\"mpg\"].mean()"
      ],
      "execution_count": null,
      "outputs": []
    },
    {
      "cell_type": "markdown",
      "metadata": {
        "id": "1At9aRe6foNF"
      },
      "source": [
        "### Count"
      ]
    },
    {
      "cell_type": "code",
      "metadata": {
        "id": "rwcBjU_nE5d3"
      },
      "source": [
        "mtcars_sample[\"cyl\"].value_counts()"
      ],
      "execution_count": null,
      "outputs": []
    },
    {
      "cell_type": "markdown",
      "metadata": {
        "id": "-B9V_ginGSC8"
      },
      "source": [
        "### Activitiy: Descriptive Statistics"
      ]
    },
    {
      "cell_type": "code",
      "metadata": {
        "id": "a-hemZw3FfeM"
      },
      "source": [
        "long_term_care = pd.read_csv('https://raw.githubusercontent.com/tertiarycourses/datasets/master/number-of-residential-long-term-care-facilities-sector-breakdown.csv',)\n",
        "long_term_care['sector'].value_counts()"
      ],
      "execution_count": null,
      "outputs": []
    },
    {
      "cell_type": "markdown",
      "metadata": {
        "id": "MEt4jzoeA_Rf"
      },
      "source": [
        "### Covariance and Correlation"
      ]
    },
    {
      "cell_type": "code",
      "metadata": {
        "id": "mBFHvjNKA3KH"
      },
      "source": [
        "mtcars_sample.cov()"
      ],
      "execution_count": null,
      "outputs": []
    },
    {
      "cell_type": "code",
      "metadata": {
        "id": "xB6udGwrA6dF"
      },
      "source": [
        "mtcars_sample.corr()"
      ],
      "execution_count": null,
      "outputs": []
    },
    {
      "cell_type": "markdown",
      "metadata": {
        "id": "YM8Mo9e5gEcY"
      },
      "source": [
        "### Time Series Analysis"
      ]
    },
    {
      "cell_type": "code",
      "metadata": {
        "id": "GMrRPAN7HlIq"
      },
      "source": [
        "air_quality = pd.read_csv(\"https://raw.githubusercontent.com/pandas-dev/pandas/master/doc/data/air_quality_no2_long.csv\")\n",
        "air_quality = air_quality.rename(columns={\"date.utc\": \"datetime\"})\n",
        "air_quality.head()"
      ],
      "execution_count": null,
      "outputs": []
    },
    {
      "cell_type": "code",
      "metadata": {
        "id": "2emAw2JbHymo"
      },
      "source": [
        "air_quality.city.unique()"
      ],
      "execution_count": null,
      "outputs": []
    },
    {
      "cell_type": "code",
      "metadata": {
        "id": "5cEXaWEiH3Th"
      },
      "source": [
        "air_quality[\"datetime\"] = pd.to_datetime(air_quality[\"datetime\"])\n",
        "air_quality[\"datetime\"]"
      ],
      "execution_count": null,
      "outputs": []
    },
    {
      "cell_type": "markdown",
      "metadata": {
        "id": "yKZNvBOqYzJ9"
      },
      "source": [
        "### Datetime "
      ]
    },
    {
      "cell_type": "code",
      "metadata": {
        "id": "FRC_bKl6IFGi"
      },
      "source": [
        "air_quality = pd.read_csv(\"https://raw.githubusercontent.com/pandas-dev/pandas/master/doc/data/air_quality_no2_long.csv\",parse_dates=[\"date.utc\"])\n",
        "air_quality = air_quality.rename(columns={\"date.utc\": \"datetime\"})\n",
        "air_quality.head()"
      ],
      "execution_count": null,
      "outputs": []
    },
    {
      "cell_type": "code",
      "metadata": {
        "id": "Ouw3RmkjIbuS"
      },
      "source": [
        "air_quality[\"datetime\"]"
      ],
      "execution_count": null,
      "outputs": []
    },
    {
      "cell_type": "code",
      "metadata": {
        "id": "0_efqmrJIjbQ"
      },
      "source": [
        "air_quality[\"datetime\"].min(), air_quality[\"datetime\"].max()"
      ],
      "execution_count": null,
      "outputs": []
    },
    {
      "cell_type": "code",
      "metadata": {
        "id": "F2cD2aH3ImZl"
      },
      "source": [
        "air_quality[\"datetime\"].max() - air_quality[\"datetime\"].min()"
      ],
      "execution_count": null,
      "outputs": []
    },
    {
      "cell_type": "code",
      "metadata": {
        "id": "TFsDFrBCIrXx"
      },
      "source": [
        "air_quality[\"month\"] = air_quality[\"datetime\"].dt.month"
      ],
      "execution_count": null,
      "outputs": []
    },
    {
      "cell_type": "code",
      "metadata": {
        "id": "cT2xKeheIu1c"
      },
      "source": [
        "air_quality.head()"
      ],
      "execution_count": null,
      "outputs": []
    },
    {
      "cell_type": "code",
      "metadata": {
        "id": "JrdE4DSmIzGg"
      },
      "source": [
        "air_quality.groupby([air_quality[\"datetime\"].dt.weekday, \"location\"])[\"value\"].mean()"
      ],
      "execution_count": null,
      "outputs": []
    },
    {
      "cell_type": "markdown",
      "metadata": {
        "id": "W8miFX7bYpmS"
      },
      "source": [
        "### Time Series Plot"
      ]
    },
    {
      "cell_type": "code",
      "metadata": {
        "id": "BNCwOGZMJCtO"
      },
      "source": [
        "fig, axs = plt.subplots(figsize=(12, 4))\n",
        "air_quality.groupby(air_quality[\"datetime\"].dt.hour)[\"value\"].mean().plot(kind='bar',rot=0,ax=axs)\n",
        "plt.xlabel(\"Hour of the day\")\n",
        "plt.ylabel(\"$NO_2 (µg/m^3)$\")"
      ],
      "execution_count": null,
      "outputs": []
    },
    {
      "cell_type": "markdown",
      "metadata": {
        "id": "ST_YmZ6oYkVS"
      },
      "source": [
        "### Datetime as Index"
      ]
    },
    {
      "cell_type": "code",
      "metadata": {
        "id": "UqhV39FHK2NQ"
      },
      "source": [
        "no_2 = air_quality.pivot(index=\"datetime\", columns=\"location\", values=\"value\")\n",
        "no_2.head()"
      ],
      "execution_count": null,
      "outputs": []
    },
    {
      "cell_type": "code",
      "metadata": {
        "id": "0qfQv1emK_FK"
      },
      "source": [
        "no_2[\"2019-05-20\":\"2019-05-21\"].plot()"
      ],
      "execution_count": null,
      "outputs": []
    },
    {
      "cell_type": "markdown",
      "metadata": {
        "id": "YbgiJcagYZcL"
      },
      "source": [
        "### Resample a Time Series"
      ]
    },
    {
      "cell_type": "code",
      "metadata": {
        "id": "pwQy8AB9LJsn"
      },
      "source": [
        "monthly_max = no_2.resample(\"M\").max()\n",
        "monthly_max"
      ],
      "execution_count": null,
      "outputs": []
    },
    {
      "cell_type": "code",
      "metadata": {
        "id": "Tt6ZCubuLQli"
      },
      "source": [
        "no_2.resample(\"D\").mean().plot(style=\"-o\", figsize=(10, 5));"
      ],
      "execution_count": null,
      "outputs": []
    },
    {
      "cell_type": "markdown",
      "metadata": {
        "id": "o1q61KmalJgB"
      },
      "source": [
        "### Activity: Time Series Analysis"
      ]
    },
    {
      "cell_type": "code",
      "metadata": {
        "id": "FTGX-ePWjnu6"
      },
      "source": [
        "long_term_care_pivot = long_term_care.pivot(columns='year',values='count').sum()\n",
        "long_term_care_pivot.plot()\n",
        "plt.xlabel('year')\n",
        "plt.ylabel('No of long term care faciliteis')"
      ],
      "execution_count": null,
      "outputs": []
    },
    {
      "cell_type": "markdown",
      "metadata": {
        "id": "WpK7XPfuZJs-"
      },
      "source": [
        "## Topic 2.5 Advanced Data Analytics"
      ]
    },
    {
      "cell_type": "markdown",
      "metadata": {
        "id": "DdggqdNXIp0x"
      },
      "source": [
        "### Pipe"
      ]
    },
    {
      "cell_type": "code",
      "metadata": {
        "id": "F5O-XpI9Idw6"
      },
      "source": [
        "def load_data():\n",
        "    return pd.read_csv('https://raw.githubusercontent.com/tertiarycourses/WSQ-Python-Data-Analytics/master/exercises/data/mtcars.csv',\n",
        "                          index_col='car_names',\n",
        "                          usecols=['car_names','mpg','hp','cyl','am'])"
      ],
      "execution_count": null,
      "outputs": []
    },
    {
      "cell_type": "code",
      "metadata": {
        "id": "gsSLqZ6WImuw"
      },
      "source": [
        "def plotbar(df):\n",
        "    df_cyl= df.pivot(columns='cyl',values='hp').mean()\n",
        "    df_cyl.plot.bar(color='red')"
      ],
      "execution_count": null,
      "outputs": []
    },
    {
      "cell_type": "code",
      "metadata": {
        "id": "p1hp5RgwIjVx"
      },
      "source": [
        "mtcars_pipe =(\n",
        "    load_data()\n",
        "    .pipe(plotbar)\n",
        ")\n"
      ],
      "execution_count": null,
      "outputs": []
    },
    {
      "cell_type": "markdown",
      "metadata": {
        "id": "RQbQYM3-LBXi"
      },
      "source": [
        "### Activity: Pipe"
      ]
    },
    {
      "cell_type": "code",
      "metadata": {
        "id": "UyD7LWyPJ-J2"
      },
      "source": [
        "def load_data():\n",
        "    return pd.read_csv('https://raw.githubusercontent.com/tertiarycourses/datasets/master/number-of-residential-long-term-care-facilities-sector-breakdown.csv')"
      ],
      "execution_count": null,
      "outputs": []
    },
    {
      "cell_type": "code",
      "metadata": {
        "id": "MtPATB8JKFg8"
      },
      "source": [
        "def plotbarh(df):\n",
        "    df_pivot = df.pivot(columns='sector',values='count').sum()\n",
        "    df_pivot.plot.barh()\n"
      ],
      "execution_count": null,
      "outputs": []
    },
    {
      "cell_type": "code",
      "metadata": {
        "id": "o1kWNSu-K1nJ"
      },
      "source": [
        "long_term_car_pipe =(\n",
        "    load_data()\n",
        "    .pipe(plotbarh)\n",
        ")\n"
      ],
      "execution_count": null,
      "outputs": []
    },
    {
      "cell_type": "markdown",
      "metadata": {
        "id": "QODt9EwcIe17"
      },
      "source": [
        "### Apply"
      ]
    },
    {
      "cell_type": "code",
      "metadata": {
        "id": "IE8SCm6BGC0V"
      },
      "source": [
        "df = pd.DataFrame([[9, 25]] * 3, columns=['P', 'Q'])\n",
        "df"
      ],
      "execution_count": null,
      "outputs": []
    },
    {
      "cell_type": "code",
      "metadata": {
        "id": "WlSenEFCGLZu"
      },
      "source": [
        "df.apply(np.sqrt)"
      ],
      "execution_count": null,
      "outputs": []
    },
    {
      "cell_type": "code",
      "metadata": {
        "id": "pM576cf-f8vC"
      },
      "source": [
        "uppercase = lambda x: x.upper()"
      ],
      "execution_count": null,
      "outputs": []
    },
    {
      "cell_type": "code",
      "metadata": {
        "id": "n1YhVsaDf-YV"
      },
      "source": [
        "mtcars_sample2 = mtcars_sample.reset_index()\n",
        "mtcars_sample2['car_names'] = mtcars_sample2['car_names'].apply(uppercase)\n",
        "mtcars_sample2"
      ],
      "execution_count": null,
      "outputs": []
    },
    {
      "cell_type": "markdown",
      "metadata": {
        "id": "viSiaJyLnzQ3"
      },
      "source": [
        "### Activity: Apply"
      ]
    },
    {
      "cell_type": "code",
      "metadata": {
        "id": "U3MVhK0tmm48"
      },
      "source": [
        "health_expenditure = pd.read_csv('https://raw.githubusercontent.com/tertiarycourses/datasets/master/government-health-expenditure.csv')\n",
        "health_expenditure"
      ],
      "execution_count": null,
      "outputs": []
    },
    {
      "cell_type": "code",
      "metadata": {
        "id": "7kDCLIpsmyEU"
      },
      "source": [
        "SGD2USD = lambda x: x/1.4\n",
        "health_expenditure[['operating_expenditure','development_expenditure','government_health_expenditure']].apply(SGD2USD)"
      ],
      "execution_count": null,
      "outputs": []
    },
    {
      "cell_type": "markdown",
      "metadata": {
        "id": "5515POXngEcl"
      },
      "source": [
        "### Linear Regression"
      ]
    },
    {
      "cell_type": "code",
      "metadata": {
        "id": "0QGp0yG0gEcl"
      },
      "source": [
        "x = pd.read_csv('https://raw.githubusercontent.com/tertiarycourses/datasets/master/boston-housing-prices.csv')\n",
        "x"
      ],
      "execution_count": null,
      "outputs": []
    },
    {
      "cell_type": "code",
      "metadata": {
        "id": "hM0a4prM-2WI"
      },
      "source": [
        "y = x.pop('medv')"
      ],
      "execution_count": null,
      "outputs": []
    },
    {
      "cell_type": "code",
      "metadata": {
        "id": "Zv3H8ozZgEcm"
      },
      "source": [
        "from sklearn import linear_model\n",
        "lm = linear_model.LinearRegression()"
      ],
      "execution_count": null,
      "outputs": []
    },
    {
      "cell_type": "code",
      "metadata": {
        "id": "8ImgWvipgEcn"
      },
      "source": [
        "lm.fit(x,y)"
      ],
      "execution_count": null,
      "outputs": []
    },
    {
      "cell_type": "code",
      "metadata": {
        "id": "gRKKdI0K_cV-"
      },
      "source": [
        "yhat = lm.predict(x)"
      ],
      "execution_count": null,
      "outputs": []
    },
    {
      "cell_type": "code",
      "metadata": {
        "id": "RUe3bln7gEco"
      },
      "source": [
        "plt.scatter(y,yhat)\n",
        "plt.xlabel('Actual Housing Price')\n",
        "plt.ylabel('Predicted Housing Price')\n",
        "plt.plot([0,50],[0,50],'r')\n",
        "plt.show()"
      ],
      "execution_count": null,
      "outputs": []
    },
    {
      "cell_type": "markdown",
      "metadata": {
        "id": "TLzFdAWwBzDU"
      },
      "source": [
        "### Activiity: Regression"
      ]
    },
    {
      "cell_type": "code",
      "metadata": {
        "id": "0FUGhfcAm3xZ"
      },
      "source": [
        "x = pd.read_csv('https://raw.githubusercontent.com/tertiarycourses/datasets/master/government-health-expenditure.csv',usecols=['operating_expenditure','government_health_expenditure'])\n",
        "x"
      ],
      "execution_count": null,
      "outputs": []
    },
    {
      "cell_type": "code",
      "metadata": {
        "id": "t2aCWLbrBCeF"
      },
      "source": [
        "y = x.pop('government_health_expenditure')"
      ],
      "execution_count": null,
      "outputs": []
    },
    {
      "cell_type": "code",
      "metadata": {
        "id": "y2rUtqE8BN6N"
      },
      "source": [
        "from sklearn import linear_model\n",
        "lm = linear_model.LinearRegression()"
      ],
      "execution_count": null,
      "outputs": []
    },
    {
      "cell_type": "code",
      "metadata": {
        "id": "L--JG3teBW2r"
      },
      "source": [
        "lm.fit(x,y)\n",
        "yhat = lm.predict(x)"
      ],
      "execution_count": null,
      "outputs": []
    },
    {
      "cell_type": "code",
      "metadata": {
        "id": "p3-D6T-lBasO"
      },
      "source": [
        "plt.scatter(x,y)\n",
        "plt.xlabel('operating_expenditure')\n",
        "plt.ylabel('government_health_expenditure')\n",
        "plt.plot(x,yhat,'r')\n",
        "plt.show()"
      ],
      "execution_count": null,
      "outputs": []
    }
  ]
}